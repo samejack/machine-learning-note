{
  "nbformat": 4,
  "nbformat_minor": 0,
  "metadata": {
    "colab": {
      "name": "5_Kares_Cat-Dog-CNN_Pretrained-Nwteork.ipynb",
      "provenance": [],
      "collapsed_sections": []
    },
    "kernelspec": {
      "name": "python3",
      "display_name": "Python 3"
    },
    "accelerator": "GPU"
  },
  "cells": [
    {
      "cell_type": "markdown",
      "metadata": {
        "id": "HM3rJBXBgAVU",
        "colab_type": "text"
      },
      "source": [
        "# Keras 利用微調預先訓練神經網路法訓練貓狗分類器\n",
        "\n",
        "## 透過 Kaggle API 下載 Play Dataset\n",
        "\n",
        "先從 Kaggle 下載資料集，這裡需要註冊 Kaggle 的帳號，並且取得 API Key，記得置換為自己的 API Token 才能下載資料。"
      ]
    },
    {
      "cell_type": "code",
      "metadata": {
        "id": "TAQRWCI47MBK",
        "colab_type": "code",
        "outputId": "64f6d60a-859f-4429-d3de-1b33a77a7adf",
        "colab": {
          "base_uri": "https://localhost:8080/",
          "height": 136
        }
      },
      "source": [
        "#!pip install kaggle\n",
        "api_token = {\"username\":\"your_username\",\"key\":\"your_api_key\"}\n",
        "import json\n",
        "import zipfile\n",
        "import os\n",
        "\n",
        "if not os.path.exists(\"/root/.kaggle\"):\n",
        "    os.makedirs(\"/root/.kaggle\")\n",
        "\n",
        "with open('/root/.kaggle/kaggle.json', 'w') as file:\n",
        "    json.dump(api_token, file)\n",
        "!chmod 600 /root/.kaggle/kaggle.json\n",
        "\n",
        "if not os.path.exists(\"/kaggle\"):\n",
        "    os.makedirs(\"/kaggle\")\n",
        "os.chdir('/kaggle')\n",
        "!kaggle datasets download -d chetankv/dogs-cats-images\n",
        "\n",
        "!ls -alh '/kaggle'"
      ],
      "execution_count": 1,
      "outputs": [
        {
          "output_type": "stream",
          "text": [
            "Downloading dogs-cats-images.zip to /kaggle\n",
            "100% 433M/435M [00:07<00:00, 53.2MB/s]\n",
            "100% 435M/435M [00:07<00:00, 62.2MB/s]\n",
            "total 435M\n",
            "drwxr-xr-x 2 root root 4.0K May 21 07:34 .\n",
            "drwxr-xr-x 1 root root 4.0K May 21 07:34 ..\n",
            "-rw-r--r-- 1 root root 435M May 21 07:34 dogs-cats-images.zip\n"
          ],
          "name": "stdout"
        }
      ]
    },
    {
      "cell_type": "code",
      "metadata": {
        "id": "cNSZTgOUDfl8",
        "colab_type": "code",
        "colab": {}
      },
      "source": [
        "!unzip 'dogs-cats-images.zip' > /dev/null"
      ],
      "execution_count": 0,
      "outputs": []
    },
    {
      "cell_type": "markdown",
      "metadata": {
        "id": "SF0rupuu7gQk",
        "colab_type": "text"
      },
      "source": [
        "看看資料的基本結構，貓與狗訓練資料夾各有 4000 張，測試資料夾各有 1000 張影像"
      ]
    },
    {
      "cell_type": "code",
      "metadata": {
        "id": "c-fK4ybQD1df",
        "colab_type": "code",
        "outputId": "fbd72a02-34be-4bd7-c0b7-d277f9f0f7ee",
        "colab": {
          "base_uri": "https://localhost:8080/",
          "height": 153
        }
      },
      "source": [
        "!echo \"training_set cats: \"\n",
        "!echo `ls -alh '/kaggle/dataset/training_set/cats' | grep cat | wc -l`\n",
        "!echo \"training_set dogs: \"\n",
        "!echo `ls -alh '/kaggle/dataset/training_set/dogs' | grep dog | wc -l`\n",
        "!echo \"test_set cats: \"\n",
        "!echo `ls -alh '/kaggle/dataset/test_set/cats' | grep cat | wc -l`\n",
        "!echo \"test_set dogs: \"\n",
        "!echo `ls -alh '/kaggle/dataset/test_set/dogs' | grep dog | wc -l`"
      ],
      "execution_count": 3,
      "outputs": [
        {
          "output_type": "stream",
          "text": [
            "training_set cats: \n",
            "4000\n",
            "training_set dogs: \n",
            "4000\n",
            "test_set cats: \n",
            "1000\n",
            "test_set dogs: \n",
            "1000\n"
          ],
          "name": "stdout"
        }
      ]
    },
    {
      "cell_type": "markdown",
      "metadata": {
        "id": "nES1CE--7rv5",
        "colab_type": "text"
      },
      "source": [
        "## 資料處理\n",
        "\n",
        "我們上面從 Kaggle 下載的檔案全部都是圖片，由於我們想要從頭訓練一個可以分辨貓或狗的 CNN 網路，開始以前需要先將影像資料進行處理，轉換為可以送進 Keras 網路進行訓練的「張量」。並且依據我們選用的損失函數方法，處理對應標準答案的格式。\n",
        "\n",
        "由於我們今天不會用到全部的資料，我們只會在兩種類別取用 1000 張進行訓練，500 張進行訓練驗證，500 張進行測試。"
      ]
    },
    {
      "cell_type": "code",
      "metadata": {
        "id": "YnwrNtM5BxAs",
        "colab_type": "code",
        "outputId": "f8afd995-b4a2-4dfd-9088-9f1cdf5ab0cb",
        "colab": {
          "base_uri": "https://localhost:8080/",
          "height": 119
        }
      },
      "source": [
        "\n",
        "\n",
        "import os, shutil\n",
        "\n",
        "# The path to the directory where the original\n",
        "# dataset was uncompressed\n",
        "original_dataset_dir = '/kaggle/dataset'\n",
        "\n",
        "# The directory where we will\n",
        "# store our smaller dataset\n",
        "base_dir = '/play'\n",
        "if not os.path.exists(base_dir):\n",
        "    os.mkdir(base_dir)\n",
        "\n",
        "# Directories for our training,\n",
        "# validation and test splits\n",
        "train_dir = os.path.join(base_dir, 'train')\n",
        "if not os.path.exists(train_dir):\n",
        "    os.mkdir(train_dir)\n",
        "validation_dir = os.path.join(base_dir, 'validation')\n",
        "if not os.path.exists(validation_dir):\n",
        "    os.mkdir(validation_dir)\n",
        "test_dir = os.path.join(base_dir, 'test')\n",
        "if not os.path.exists(test_dir):\n",
        "    os.mkdir(test_dir)\n",
        "\n",
        "# Directory with our training cat pictures\n",
        "train_cats_dir = os.path.join(train_dir, 'cats')\n",
        "if not os.path.exists(train_cats_dir):\n",
        "    os.mkdir(train_cats_dir)\n",
        "\n",
        "# Directory with our training dog pictures\n",
        "train_dogs_dir = os.path.join(train_dir, 'dogs')\n",
        "if not os.path.exists(train_dogs_dir):\n",
        "    os.mkdir(train_dogs_dir)\n",
        "\n",
        "# Directory with our validation cat pictures\n",
        "validation_cats_dir = os.path.join(validation_dir, 'cats')\n",
        "if not os.path.exists(validation_cats_dir):\n",
        "    os.mkdir(validation_cats_dir)\n",
        "\n",
        "# Directory with our validation dog pictures\n",
        "validation_dogs_dir = os.path.join(validation_dir, 'dogs')\n",
        "if not os.path.exists(validation_dogs_dir):\n",
        "    os.mkdir(validation_dogs_dir)\n",
        "\n",
        "# Directory with our validation cat pictures\n",
        "test_cats_dir = os.path.join(test_dir, 'cats')\n",
        "if not os.path.exists(test_cats_dir):\n",
        "    os.mkdir(test_cats_dir)\n",
        "\n",
        "# Directory with our validation dog pictures\n",
        "test_dogs_dir = os.path.join(test_dir, 'dogs')\n",
        "if not os.path.exists(test_dogs_dir):\n",
        "    os.mkdir(test_dogs_dir)\n",
        "\n",
        "# Copy first 1000 cat images to train_cats_dir\n",
        "fnames = ['cat.{}.jpg'.format(i) for i in range(1, 1001)]\n",
        "for fname in fnames:\n",
        "    src = os.path.join(original_dataset_dir, 'training_set', 'cats', fname)\n",
        "    dst = os.path.join(train_cats_dir, fname)\n",
        "    shutil.copyfile(src, dst)\n",
        "\n",
        "# Copy next 500 cat images to validation_cats_dir\n",
        "fnames = ['cat.{}.jpg'.format(i) for i in range(4001, 4501)]\n",
        "for fname in fnames:\n",
        "    src = os.path.join(original_dataset_dir, 'test_set', 'cats', fname)\n",
        "    dst = os.path.join(validation_cats_dir, fname)\n",
        "    shutil.copyfile(src, dst)\n",
        "    \n",
        "# Copy next 500 cat images to test_cats_dir\n",
        "fnames = ['cat.{}.jpg'.format(i) for i in range(4501, 5001)]\n",
        "for fname in fnames:\n",
        "    src = os.path.join(original_dataset_dir, 'test_set', 'cats', fname)\n",
        "    dst = os.path.join(test_cats_dir, fname)\n",
        "    shutil.copyfile(src, dst)\n",
        "    \n",
        "# Copy first 1000 dog images to train_dogs_dir\n",
        "fnames = ['dog.{}.jpg'.format(i) for i in range(1, 1001)]\n",
        "for fname in fnames:\n",
        "    src = os.path.join(original_dataset_dir, 'training_set', 'dogs', fname)\n",
        "    dst = os.path.join(train_dogs_dir, fname)\n",
        "    shutil.copyfile(src, dst)\n",
        "    \n",
        "# Copy next 500 dog images to validation_dogs_dir\n",
        "fnames = ['dog.{}.jpg'.format(i) for i in range(4001, 4501)]\n",
        "for fname in fnames:\n",
        "    src = os.path.join(original_dataset_dir, 'test_set', 'dogs', fname)\n",
        "    dst = os.path.join(validation_dogs_dir, fname)\n",
        "    shutil.copyfile(src, dst)\n",
        "    \n",
        "# Copy next 500 dog images to test_dogs_dir\n",
        "fnames = ['dog.{}.jpg'.format(i) for i in range(4501, 5001)]\n",
        "for fname in fnames:\n",
        "    src = os.path.join(original_dataset_dir, 'test_set', 'dogs', fname)\n",
        "    dst = os.path.join(test_dogs_dir, fname)\n",
        "    shutil.copyfile(src, dst)\n",
        "\n",
        "print('total training cat images:', len(os.listdir(train_cats_dir)))\n",
        "print('total training dog images:', len(os.listdir(train_dogs_dir)))\n",
        "print('total validation cat images:', len(os.listdir(validation_cats_dir)))\n",
        "print('total validation dog images:', len(os.listdir(validation_dogs_dir)))\n",
        "print('total test cat images:', len(os.listdir(test_cats_dir)))\n",
        "print('total test dog images:', len(os.listdir(test_dogs_dir)))"
      ],
      "execution_count": 4,
      "outputs": [
        {
          "output_type": "stream",
          "text": [
            "total training cat images: 1000\n",
            "total training dog images: 1000\n",
            "total validation cat images: 500\n",
            "total validation dog images: 500\n",
            "total test cat images: 500\n",
            "total test dog images: 500\n"
          ],
          "name": "stdout"
        }
      ]
    },
    {
      "cell_type": "markdown",
      "metadata": {
        "id": "gxUW9ESP8vye",
        "colab_type": "text"
      },
      "source": [
        "# 使用已經訓練好的 VGG16 經典網路\n",
        "\n",
        "這裡先取用 VGG16 CNN Base，用來擷取特徵，後面會比較對 CNN Base 重新訓練的效果差異。"
      ]
    },
    {
      "cell_type": "code",
      "metadata": {
        "id": "MZEnme1hAO8X",
        "colab_type": "code",
        "outputId": "0625ba0d-2d9f-44c5-8313-7ea09ed71353",
        "colab": {
          "base_uri": "https://localhost:8080/",
          "height": 850
        }
      },
      "source": [
        "# 載入 VGG 網路 Convolutional Base\n",
        "from keras.applications import VGG16\n",
        "\n",
        "conv_base = VGG16(weights='imagenet',\n",
        "                  include_top=False,             # 不包含 Full Connection\n",
        "                  input_shape=(150, 150, 3))\n",
        "\n",
        "conv_base.summary()"
      ],
      "execution_count": 5,
      "outputs": [
        {
          "output_type": "stream",
          "text": [
            "Using TensorFlow backend.\n"
          ],
          "name": "stderr"
        },
        {
          "output_type": "stream",
          "text": [
            "Downloading data from https://github.com/fchollet/deep-learning-models/releases/download/v0.1/vgg16_weights_tf_dim_ordering_tf_kernels_notop.h5\n",
            "58892288/58889256 [==============================] - 3s 0us/step\n",
            "Model: \"vgg16\"\n",
            "_________________________________________________________________\n",
            "Layer (type)                 Output Shape              Param #   \n",
            "=================================================================\n",
            "input_1 (InputLayer)         (None, 150, 150, 3)       0         \n",
            "_________________________________________________________________\n",
            "block1_conv1 (Conv2D)        (None, 150, 150, 64)      1792      \n",
            "_________________________________________________________________\n",
            "block1_conv2 (Conv2D)        (None, 150, 150, 64)      36928     \n",
            "_________________________________________________________________\n",
            "block1_pool (MaxPooling2D)   (None, 75, 75, 64)        0         \n",
            "_________________________________________________________________\n",
            "block2_conv1 (Conv2D)        (None, 75, 75, 128)       73856     \n",
            "_________________________________________________________________\n",
            "block2_conv2 (Conv2D)        (None, 75, 75, 128)       147584    \n",
            "_________________________________________________________________\n",
            "block2_pool (MaxPooling2D)   (None, 37, 37, 128)       0         \n",
            "_________________________________________________________________\n",
            "block3_conv1 (Conv2D)        (None, 37, 37, 256)       295168    \n",
            "_________________________________________________________________\n",
            "block3_conv2 (Conv2D)        (None, 37, 37, 256)       590080    \n",
            "_________________________________________________________________\n",
            "block3_conv3 (Conv2D)        (None, 37, 37, 256)       590080    \n",
            "_________________________________________________________________\n",
            "block3_pool (MaxPooling2D)   (None, 18, 18, 256)       0         \n",
            "_________________________________________________________________\n",
            "block4_conv1 (Conv2D)        (None, 18, 18, 512)       1180160   \n",
            "_________________________________________________________________\n",
            "block4_conv2 (Conv2D)        (None, 18, 18, 512)       2359808   \n",
            "_________________________________________________________________\n",
            "block4_conv3 (Conv2D)        (None, 18, 18, 512)       2359808   \n",
            "_________________________________________________________________\n",
            "block4_pool (MaxPooling2D)   (None, 9, 9, 512)         0         \n",
            "_________________________________________________________________\n",
            "block5_conv1 (Conv2D)        (None, 9, 9, 512)         2359808   \n",
            "_________________________________________________________________\n",
            "block5_conv2 (Conv2D)        (None, 9, 9, 512)         2359808   \n",
            "_________________________________________________________________\n",
            "block5_conv3 (Conv2D)        (None, 9, 9, 512)         2359808   \n",
            "_________________________________________________________________\n",
            "block5_pool (MaxPooling2D)   (None, 4, 4, 512)         0         \n",
            "=================================================================\n",
            "Total params: 14,714,688\n",
            "Trainable params: 14,714,688\n",
            "Non-trainable params: 0\n",
            "_________________________________________________________________\n"
          ],
          "name": "stdout"
        }
      ]
    },
    {
      "cell_type": "markdown",
      "metadata": {
        "id": "jvrZbrQP9PKD",
        "colab_type": "text"
      },
      "source": [
        "輸入要訓練的影像到 VGG16 CNN Base 獲取 predict 後的特徵值。\n"
      ]
    },
    {
      "cell_type": "code",
      "metadata": {
        "id": "1S5x1GPfjH6b",
        "colab_type": "code",
        "outputId": "65d8410b-d952-454b-8c1c-8483af4105b7",
        "colab": {
          "base_uri": "https://localhost:8080/",
          "height": 68
        }
      },
      "source": [
        "import os\n",
        "import numpy as np\n",
        "from keras.preprocessing.image import ImageDataGenerator\n",
        "\n",
        "datagen = ImageDataGenerator(rescale=1./255)\n",
        "batch_size = 20\n",
        "\n",
        "def extract_features(directory, sample_count):\n",
        "    features = np.zeros(shape=(sample_count, 4, 4, 512))\n",
        "    labels = np.zeros(shape=(sample_count))\n",
        "    generator = datagen.flow_from_directory(\n",
        "        directory,\n",
        "        target_size=(150, 150),\n",
        "        batch_size=batch_size,\n",
        "        class_mode='binary')\n",
        "    i = 0\n",
        "    for inputs_batch, labels_batch in generator:\n",
        "        features_batch = conv_base.predict(inputs_batch)\n",
        "        features[i * batch_size : (i + 1) * batch_size] = features_batch\n",
        "        labels[i * batch_size : (i + 1) * batch_size] = labels_batch\n",
        "        i += 1\n",
        "        if i * batch_size >= sample_count:\n",
        "            # Note that since generators yield data indefinitely in a loop,\n",
        "            # we must `break` after every image has been seen once.\n",
        "            break\n",
        "    return features, labels\n",
        "\n",
        "train_features, train_labels = extract_features(train_dir, 2000)\n",
        "validation_features, validation_labels = extract_features(validation_dir, 1000)\n",
        "test_features, test_labels = extract_features(test_dir, 1000)"
      ],
      "execution_count": 6,
      "outputs": [
        {
          "output_type": "stream",
          "text": [
            "Found 2000 images belonging to 2 classes.\n",
            "Found 1000 images belonging to 2 classes.\n",
            "Found 1000 images belonging to 2 classes.\n"
          ],
          "name": "stdout"
        }
      ]
    },
    {
      "cell_type": "code",
      "metadata": {
        "id": "ZuJS7BCrjigR",
        "colab_type": "code",
        "colab": {}
      },
      "source": [
        "train_features = np.reshape(train_features, (2000, 4 * 4 * 512))\n",
        "validation_features = np.reshape(validation_features, (1000, 4 * 4 * 512))\n",
        "test_features = np.reshape(test_features, (1000, 4 * 4 * 512))"
      ],
      "execution_count": 0,
      "outputs": []
    },
    {
      "cell_type": "markdown",
      "metadata": {
        "id": "36IhHBBbjttK",
        "colab_type": "text"
      },
      "source": [
        "# 比較「特徵擷取法」與「微調預先訓練神經網路法」的差異\n",
        "\n",
        "先實做基本的特徵擷取法 (可以參考前一個章節)，把剛剛透過 CNN Base 得到的特徵送進網路進行訓練，回顧一下作法順便比較。\n",
        "\n",
        "### 特徵擷取法：大約 90% 正確率\n"
      ]
    },
    {
      "cell_type": "code",
      "metadata": {
        "id": "-kB5NG9citks",
        "colab_type": "code",
        "outputId": "6819538a-e0e1-4086-b5b3-0c92325c1a4f",
        "colab": {
          "base_uri": "https://localhost:8080/",
          "height": 1000
        }
      },
      "source": [
        "\n",
        "from keras import models\n",
        "from keras import layers\n",
        "from keras import optimizers\n",
        "\n",
        "model = models.Sequential()\n",
        "model.add(layers.Dense(256, activation='relu', input_dim=4 * 4 * 512))\n",
        "model.add(layers.Dropout(0.5))\n",
        "model.add(layers.Dense(1, activation='sigmoid'))\n",
        "\n",
        "model.summary()\n",
        "\n",
        "model.compile(optimizer=optimizers.RMSprop(lr=2e-5),\n",
        "              loss='binary_crossentropy',\n",
        "              metrics=['acc'])\n",
        "\n",
        "history = model.fit(train_features, train_labels,\n",
        "                    epochs=30,\n",
        "                    batch_size=20,\n",
        "                    validation_data=(validation_features, validation_labels))"
      ],
      "execution_count": 8,
      "outputs": [
        {
          "output_type": "stream",
          "text": [
            "Model: \"sequential_1\"\n",
            "_________________________________________________________________\n",
            "Layer (type)                 Output Shape              Param #   \n",
            "=================================================================\n",
            "dense_1 (Dense)              (None, 256)               2097408   \n",
            "_________________________________________________________________\n",
            "dropout_1 (Dropout)          (None, 256)               0         \n",
            "_________________________________________________________________\n",
            "dense_2 (Dense)              (None, 1)                 257       \n",
            "=================================================================\n",
            "Total params: 2,097,665\n",
            "Trainable params: 2,097,665\n",
            "Non-trainable params: 0\n",
            "_________________________________________________________________\n",
            "Train on 2000 samples, validate on 1000 samples\n",
            "Epoch 1/30\n",
            "2000/2000 [==============================] - 1s 470us/step - loss: 0.6093 - acc: 0.6625 - val_loss: 0.4944 - val_acc: 0.7920\n",
            "Epoch 2/30\n",
            "2000/2000 [==============================] - 1s 341us/step - loss: 0.4558 - acc: 0.7980 - val_loss: 0.3934 - val_acc: 0.8490\n",
            "Epoch 3/30\n",
            "2000/2000 [==============================] - 1s 350us/step - loss: 0.3687 - acc: 0.8430 - val_loss: 0.3474 - val_acc: 0.8610\n",
            "Epoch 4/30\n",
            "2000/2000 [==============================] - 1s 350us/step - loss: 0.3274 - acc: 0.8690 - val_loss: 0.3270 - val_acc: 0.8610\n",
            "Epoch 5/30\n",
            "2000/2000 [==============================] - 1s 358us/step - loss: 0.2884 - acc: 0.8920 - val_loss: 0.3011 - val_acc: 0.8830\n",
            "Epoch 6/30\n",
            "2000/2000 [==============================] - 1s 361us/step - loss: 0.2770 - acc: 0.8895 - val_loss: 0.2896 - val_acc: 0.8850\n",
            "Epoch 7/30\n",
            "2000/2000 [==============================] - 1s 376us/step - loss: 0.2560 - acc: 0.8975 - val_loss: 0.2882 - val_acc: 0.8820\n",
            "Epoch 8/30\n",
            "2000/2000 [==============================] - 1s 377us/step - loss: 0.2333 - acc: 0.9120 - val_loss: 0.2719 - val_acc: 0.8910\n",
            "Epoch 9/30\n",
            "2000/2000 [==============================] - 1s 369us/step - loss: 0.2301 - acc: 0.9115 - val_loss: 0.2698 - val_acc: 0.8870\n",
            "Epoch 10/30\n",
            "2000/2000 [==============================] - 1s 376us/step - loss: 0.2071 - acc: 0.9235 - val_loss: 0.2606 - val_acc: 0.8960\n",
            "Epoch 11/30\n",
            "2000/2000 [==============================] - 1s 372us/step - loss: 0.2053 - acc: 0.9250 - val_loss: 0.2571 - val_acc: 0.8980\n",
            "Epoch 12/30\n",
            "2000/2000 [==============================] - 1s 376us/step - loss: 0.1944 - acc: 0.9325 - val_loss: 0.2563 - val_acc: 0.8950\n",
            "Epoch 13/30\n",
            "2000/2000 [==============================] - 1s 375us/step - loss: 0.1843 - acc: 0.9300 - val_loss: 0.2528 - val_acc: 0.9000\n",
            "Epoch 14/30\n",
            "2000/2000 [==============================] - 1s 373us/step - loss: 0.1773 - acc: 0.9390 - val_loss: 0.2601 - val_acc: 0.8900\n",
            "Epoch 15/30\n",
            "2000/2000 [==============================] - 1s 376us/step - loss: 0.1678 - acc: 0.9365 - val_loss: 0.2486 - val_acc: 0.8970\n",
            "Epoch 16/30\n",
            "2000/2000 [==============================] - 1s 375us/step - loss: 0.1693 - acc: 0.9400 - val_loss: 0.2471 - val_acc: 0.9030\n",
            "Epoch 17/30\n",
            "2000/2000 [==============================] - 1s 370us/step - loss: 0.1525 - acc: 0.9425 - val_loss: 0.2485 - val_acc: 0.8980\n",
            "Epoch 18/30\n",
            "2000/2000 [==============================] - 1s 373us/step - loss: 0.1501 - acc: 0.9410 - val_loss: 0.2444 - val_acc: 0.9030\n",
            "Epoch 19/30\n",
            "2000/2000 [==============================] - 1s 372us/step - loss: 0.1378 - acc: 0.9505 - val_loss: 0.2434 - val_acc: 0.9050\n",
            "Epoch 20/30\n",
            "2000/2000 [==============================] - 1s 368us/step - loss: 0.1392 - acc: 0.9510 - val_loss: 0.2434 - val_acc: 0.9010\n",
            "Epoch 21/30\n",
            "2000/2000 [==============================] - 1s 374us/step - loss: 0.1374 - acc: 0.9515 - val_loss: 0.2443 - val_acc: 0.8970\n",
            "Epoch 22/30\n",
            "2000/2000 [==============================] - 1s 374us/step - loss: 0.1276 - acc: 0.9575 - val_loss: 0.2444 - val_acc: 0.8960\n",
            "Epoch 23/30\n",
            "2000/2000 [==============================] - 1s 373us/step - loss: 0.1196 - acc: 0.9595 - val_loss: 0.2424 - val_acc: 0.8980\n",
            "Epoch 24/30\n",
            "2000/2000 [==============================] - 1s 371us/step - loss: 0.1171 - acc: 0.9620 - val_loss: 0.2423 - val_acc: 0.9050\n",
            "Epoch 25/30\n",
            "2000/2000 [==============================] - 1s 376us/step - loss: 0.1178 - acc: 0.9630 - val_loss: 0.2411 - val_acc: 0.9010\n",
            "Epoch 26/30\n",
            "2000/2000 [==============================] - 1s 372us/step - loss: 0.1091 - acc: 0.9650 - val_loss: 0.2498 - val_acc: 0.8970\n",
            "Epoch 27/30\n",
            "2000/2000 [==============================] - 1s 381us/step - loss: 0.1062 - acc: 0.9670 - val_loss: 0.2429 - val_acc: 0.9030\n",
            "Epoch 28/30\n",
            "2000/2000 [==============================] - 1s 373us/step - loss: 0.0983 - acc: 0.9725 - val_loss: 0.2415 - val_acc: 0.9030\n",
            "Epoch 29/30\n",
            "2000/2000 [==============================] - 1s 383us/step - loss: 0.1015 - acc: 0.9705 - val_loss: 0.2473 - val_acc: 0.9020\n",
            "Epoch 30/30\n",
            "2000/2000 [==============================] - 1s 374us/step - loss: 0.0958 - acc: 0.9710 - val_loss: 0.2442 - val_acc: 0.9050\n"
          ],
          "name": "stdout"
        }
      ]
    },
    {
      "cell_type": "markdown",
      "metadata": {
        "id": "5IS_-lmi_YaR",
        "colab_type": "text"
      },
      "source": [
        "## 圖表分析「特徵擷取法」訓練結果\n",
        "\n",
        "一般的特徵擷取法正確率大約 0.9 左右。"
      ]
    },
    {
      "cell_type": "code",
      "metadata": {
        "id": "AiJ6ch5Gj0OD",
        "colab_type": "code",
        "outputId": "a61a2256-c7ef-48bb-9d6d-c117079d19c5",
        "colab": {
          "base_uri": "https://localhost:8080/",
          "height": 545
        }
      },
      "source": [
        "import matplotlib.pyplot as plt\n",
        "\n",
        "acc = history.history['acc']\n",
        "val_acc = history.history['val_acc']\n",
        "loss = history.history['loss']\n",
        "val_loss = history.history['val_loss']\n",
        "\n",
        "epochs = range(len(acc))\n",
        "\n",
        "plt.plot(epochs, acc, 'bo', label='Training acc')\n",
        "plt.plot(epochs, val_acc, 'b', label='Validation acc')\n",
        "plt.title('Training and validation accuracy')\n",
        "plt.legend()\n",
        "\n",
        "plt.figure()\n",
        "\n",
        "plt.plot(epochs, loss, 'bo', label='Training loss')\n",
        "plt.plot(epochs, val_loss, 'b', label='Validation loss')\n",
        "plt.title('Training and validation loss')\n",
        "plt.legend()\n",
        "\n",
        "plt.show()"
      ],
      "execution_count": 9,
      "outputs": [
        {
          "output_type": "display_data",
          "data": {
            "image/png": "[encoded data removed]",
            "text/plain": [
              "<Figure size 432x288 with 1 Axes>"
            ]
          },
          "metadata": {
            "tags": [],
            "needs_background": "light"
          }
        },
        {
          "output_type": "display_data",
          "data": {
            "image/png": "[encoded data removed]",
            "text/plain": [
              "<Figure size 432x288 with 1 Axes>"
            ]
          },
          "metadata": {
            "tags": [],
            "needs_background": "light"
          }
        }
      ]
    },
    {
      "cell_type": "markdown",
      "metadata": {
        "id": "N9rz9gMqAf11",
        "colab_type": "text"
      },
      "source": [
        "# 微調預先訓練神經網路法\n",
        "\n",
        "這裡我們要聯合 VGG16 CNN Base 進行學習，解凍 (Freeze) 一些卷積基底「頂部」的某些層用於特徵擷取，並對新加入的 Full Connection Layer 進行聯合訓練。由於稍稍調整了原本 CNN 基底的表示法，所以叫做「微調」。\n",
        "\n",
        "開始以前，我們先只是進行聯合學習，使用 VGG16 CNN Base 接上我們自己的 Full Connection Layer 進行完整的學習。對於 VGG16 CNN 的參數是「凍結」的狀態。\n",
        "\n",
        "### 預先訓練神經網路法(凍結 CNN)：大約 96% 正確率\n",
        "\n"
      ]
    },
    {
      "cell_type": "code",
      "metadata": {
        "id": "zMfCCxt5lV83",
        "colab_type": "code",
        "outputId": "01c5a96e-4e76-4ba7-cd9d-e36ee23ce127",
        "colab": {
          "base_uri": "https://localhost:8080/",
          "height": 289
        }
      },
      "source": [
        "from keras import models\n",
        "from keras import layers\n",
        "\n",
        "model = models.Sequential()\n",
        "model.add(conv_base)\n",
        "model.add(layers.Flatten())\n",
        "model.add(layers.Dense(256, activation='relu'))\n",
        "model.add(layers.Dense(1, activation='sigmoid'))\n",
        "\n",
        "model.summary()"
      ],
      "execution_count": 10,
      "outputs": [
        {
          "output_type": "stream",
          "text": [
            "Model: \"sequential_2\"\n",
            "_________________________________________________________________\n",
            "Layer (type)                 Output Shape              Param #   \n",
            "=================================================================\n",
            "vgg16 (Model)                (None, 4, 4, 512)         14714688  \n",
            "_________________________________________________________________\n",
            "flatten_1 (Flatten)          (None, 8192)              0         \n",
            "_________________________________________________________________\n",
            "dense_3 (Dense)              (None, 256)               2097408   \n",
            "_________________________________________________________________\n",
            "dense_4 (Dense)              (None, 1)                 257       \n",
            "=================================================================\n",
            "Total params: 16,812,353\n",
            "Trainable params: 16,812,353\n",
            "Non-trainable params: 0\n",
            "_________________________________________________________________\n"
          ],
          "name": "stdout"
        }
      ]
    },
    {
      "cell_type": "code",
      "metadata": {
        "id": "qxpIJtfelzy3",
        "colab_type": "code",
        "outputId": "eaef123e-5010-4bfb-c53b-235c474ddc42",
        "colab": {
          "base_uri": "https://localhost:8080/",
          "height": 1000
        }
      },
      "source": [
        "from keras.preprocessing.image import ImageDataGenerator\n",
        "\n",
        "train_datagen = ImageDataGenerator(\n",
        "      rescale=1./255,\n",
        "      rotation_range=40,\n",
        "      width_shift_range=0.2,\n",
        "      height_shift_range=0.2,\n",
        "      shear_range=0.2,\n",
        "      zoom_range=0.2,\n",
        "      horizontal_flip=True,\n",
        "      fill_mode='nearest')\n",
        "\n",
        "# Note that the validation data should not be augmented!\n",
        "test_datagen = ImageDataGenerator(rescale=1./255)\n",
        "\n",
        "train_generator = train_datagen.flow_from_directory(\n",
        "        # This is the target directory\n",
        "        train_dir,\n",
        "        # All images will be resized to 150x150\n",
        "        target_size=(150, 150),\n",
        "        batch_size=20,\n",
        "        # Since we use binary_crossentropy loss, we need binary labels\n",
        "        class_mode='binary')\n",
        "\n",
        "validation_generator = test_datagen.flow_from_directory(\n",
        "        validation_dir,\n",
        "        target_size=(150, 150),\n",
        "        batch_size=20,\n",
        "        class_mode='binary')\n",
        "\n",
        "model.compile(loss='binary_crossentropy',\n",
        "              optimizer=optimizers.RMSprop(lr=2e-5),\n",
        "              metrics=['acc'])\n",
        "\n",
        "history = model.fit_generator(\n",
        "      train_generator,\n",
        "      steps_per_epoch=100,\n",
        "      epochs=30,\n",
        "      validation_data=validation_generator,\n",
        "      validation_steps=50,\n",
        "      verbose=2)"
      ],
      "execution_count": 11,
      "outputs": [
        {
          "output_type": "stream",
          "text": [
            "Found 2000 images belonging to 2 classes.\n",
            "Found 1000 images belonging to 2 classes.\n",
            "Epoch 1/30\n",
            " - 48s - loss: 0.4902 - acc: 0.7415 - val_loss: 0.3136 - val_acc: 0.9190\n",
            "Epoch 2/30\n",
            " - 44s - loss: 0.2650 - acc: 0.8890 - val_loss: 0.0772 - val_acc: 0.9200\n",
            "Epoch 3/30\n",
            " - 44s - loss: 0.2257 - acc: 0.9135 - val_loss: 0.6628 - val_acc: 0.9580\n",
            "Epoch 4/30\n",
            " - 44s - loss: 0.1787 - acc: 0.9290 - val_loss: 0.0328 - val_acc: 0.9460\n",
            "Epoch 5/30\n",
            " - 44s - loss: 0.1702 - acc: 0.9305 - val_loss: 0.0387 - val_acc: 0.9610\n",
            "Epoch 6/30\n",
            " - 44s - loss: 0.1335 - acc: 0.9455 - val_loss: 0.5476 - val_acc: 0.8800\n",
            "Epoch 7/30\n",
            " - 44s - loss: 0.1159 - acc: 0.9575 - val_loss: 0.0575 - val_acc: 0.9510\n",
            "Epoch 8/30\n",
            " - 44s - loss: 0.1122 - acc: 0.9575 - val_loss: 0.0474 - val_acc: 0.9650\n",
            "Epoch 9/30\n",
            " - 44s - loss: 0.0870 - acc: 0.9685 - val_loss: 0.0471 - val_acc: 0.9640\n",
            "Epoch 10/30\n",
            " - 44s - loss: 0.0951 - acc: 0.9635 - val_loss: 0.2937 - val_acc: 0.9110\n",
            "Epoch 11/30\n",
            " - 44s - loss: 0.0865 - acc: 0.9675 - val_loss: 0.3589 - val_acc: 0.9680\n",
            "Epoch 12/30\n",
            " - 44s - loss: 0.0746 - acc: 0.9735 - val_loss: 0.0161 - val_acc: 0.9690\n",
            "Epoch 13/30\n",
            " - 44s - loss: 0.0932 - acc: 0.9685 - val_loss: 0.1597 - val_acc: 0.9710\n",
            "Epoch 14/30\n",
            " - 44s - loss: 0.0662 - acc: 0.9770 - val_loss: 0.3372 - val_acc: 0.9650\n",
            "Epoch 15/30\n",
            " - 44s - loss: 0.0592 - acc: 0.9770 - val_loss: 0.0647 - val_acc: 0.9640\n",
            "Epoch 16/30\n",
            " - 44s - loss: 0.0539 - acc: 0.9840 - val_loss: 0.0701 - val_acc: 0.9730\n",
            "Epoch 17/30\n",
            " - 44s - loss: 0.0620 - acc: 0.9775 - val_loss: 0.0331 - val_acc: 0.9520\n",
            "Epoch 18/30\n",
            " - 44s - loss: 0.0642 - acc: 0.9785 - val_loss: 0.0013 - val_acc: 0.9730\n",
            "Epoch 19/30\n",
            " - 44s - loss: 0.0488 - acc: 0.9830 - val_loss: 0.0024 - val_acc: 0.9550\n",
            "Epoch 20/30\n",
            " - 44s - loss: 0.0677 - acc: 0.9795 - val_loss: 0.3527 - val_acc: 0.9690\n",
            "Epoch 21/30\n",
            " - 44s - loss: 0.0563 - acc: 0.9865 - val_loss: 0.0032 - val_acc: 0.9640\n",
            "Epoch 22/30\n",
            " - 44s - loss: 0.0338 - acc: 0.9880 - val_loss: 0.1236 - val_acc: 0.9520\n",
            "Epoch 23/30\n",
            " - 44s - loss: 0.0543 - acc: 0.9835 - val_loss: 9.5345e-05 - val_acc: 0.9550\n",
            "Epoch 24/30\n",
            " - 44s - loss: 0.0387 - acc: 0.9860 - val_loss: 0.0521 - val_acc: 0.9530\n",
            "Epoch 25/30\n",
            " - 44s - loss: 0.0426 - acc: 0.9830 - val_loss: 0.4217 - val_acc: 0.9620\n",
            "Epoch 26/30\n",
            " - 44s - loss: 0.0262 - acc: 0.9905 - val_loss: 0.8129 - val_acc: 0.9430\n",
            "Epoch 27/30\n",
            " - 44s - loss: 0.0344 - acc: 0.9885 - val_loss: 0.0019 - val_acc: 0.9550\n",
            "Epoch 28/30\n",
            " - 44s - loss: 0.0333 - acc: 0.9925 - val_loss: 0.0101 - val_acc: 0.9720\n",
            "Epoch 29/30\n",
            " - 44s - loss: 0.0516 - acc: 0.9870 - val_loss: 0.8662 - val_acc: 0.9300\n",
            "Epoch 30/30\n",
            " - 44s - loss: 0.0367 - acc: 0.9880 - val_loss: 0.0025 - val_acc: 0.9540\n"
          ],
          "name": "stdout"
        }
      ]
    },
    {
      "cell_type": "markdown",
      "metadata": {
        "id": "bB4HUnpoEeAL",
        "colab_type": "text"
      },
      "source": [
        "## 看圖分析訓練成果 - 預先訓練神經網路法(凍結 CNN)：大約 96% 正確率"
      ]
    },
    {
      "cell_type": "code",
      "metadata": {
        "id": "bsMxTTxYeNGO",
        "colab_type": "code",
        "outputId": "137172ef-7137-4d8e-bb84-d713b03462f4",
        "colab": {
          "base_uri": "https://localhost:8080/",
          "height": 545
        }
      },
      "source": [
        "acc = history.history['acc']\n",
        "val_acc = history.history['val_acc']\n",
        "loss = history.history['loss']\n",
        "val_loss = history.history['val_loss']\n",
        "\n",
        "epochs = range(len(acc))\n",
        "\n",
        "plt.plot(epochs, acc, 'bo', label='Training acc')\n",
        "plt.plot(epochs, val_acc, 'b', label='Validation acc')\n",
        "plt.title('Training and validation accuracy')\n",
        "plt.legend()\n",
        "\n",
        "plt.figure()\n",
        "\n",
        "plt.plot(epochs, loss, 'bo', label='Training loss')\n",
        "plt.plot(epochs, val_loss, 'b', label='Validation loss')\n",
        "plt.title('Training and validation loss')\n",
        "plt.legend()\n",
        "\n",
        "plt.show()"
      ],
      "execution_count": 12,
      "outputs": [
        {
          "output_type": "display_data",
          "data": {
            "image/png": "[encoded data removed]",
            "text/plain": [
              "<Figure size 432x288 with 1 Axes>"
            ]
          },
          "metadata": {
            "tags": [],
            "needs_background": "light"
          }
        },
        {
          "output_type": "display_data",
          "data": {
            "image/png": "[encoded data removed]",
            "text/plain": [
              "<Figure size 432x288 with 1 Axes>"
            ]
          },
          "metadata": {
            "tags": [],
            "needs_background": "light"
          }
        }
      ]
    },
    {
      "cell_type": "markdown",
      "metadata": {
        "id": "hFJhNtHUErrb",
        "colab_type": "text"
      },
      "source": [
        "# 微調預先訓練神經網路法 (解凍 VGG16 block5_conv1)\n",
        "\n",
        "剛剛在套用 VGG16 CNN Base 進行聯合訓練可以到達 96% 準確率，接下來我們要進行「微調」，就是解凍部份已經訓練好的 CNN 網路，藉此提高模型擬合我們新資料的能力。\n",
        "\n",
        "這裡的實驗只有解凍 VGG16 最後一層 (第五層) 的網路權重，並且使用「低學習率」進行調整。解凍網路的方式如下，解凍後要重新 Compile："
      ]
    },
    {
      "cell_type": "code",
      "metadata": {
        "id": "rHSpzeNwmOQ_",
        "colab_type": "code",
        "colab": {}
      },
      "source": [
        "conv_base.trainable = True\n",
        "\n",
        "for layer in conv_base.layers:\n",
        "    if layer.name == 'block5_conv1':\n",
        "        layer.trainable = True         # 解凍 CNN 基底\n",
        "    else:\n",
        "        layer.trainable = False\n",
        "\n",
        "model.compile(loss='binary_crossentropy',\n",
        "              optimizer=optimizers.RMSprop(lr=1e-5),  # 低學習率\n",
        "              metrics=['acc'])"
      ],
      "execution_count": 0,
      "outputs": []
    },
    {
      "cell_type": "markdown",
      "metadata": {
        "id": "K6xpS22DF4fv",
        "colab_type": "text"
      },
      "source": [
        "# 重新訓練網路並進行微調"
      ]
    },
    {
      "cell_type": "code",
      "metadata": {
        "id": "4DUnvbp6Fyv_",
        "colab_type": "code",
        "colab": {
          "base_uri": "https://localhost:8080/",
          "height": 1000
        },
        "outputId": "eca7734f-8223-43bd-cc08-ace61640dc59"
      },
      "source": [
        "history = model.fit_generator(\n",
        "      train_generator,\n",
        "      steps_per_epoch=100,\n",
        "      epochs=100,\n",
        "      validation_data=validation_generator,\n",
        "      validation_steps=50)"
      ],
      "execution_count": 14,
      "outputs": [
        {
          "output_type": "stream",
          "text": [
            "Epoch 1/100\n",
            "100/100 [==============================] - 29s 289ms/step - loss: 0.0126 - acc: 0.9955 - val_loss: 0.3343 - val_acc: 0.9690\n",
            "Epoch 2/100\n",
            "100/100 [==============================] - 27s 268ms/step - loss: 0.0127 - acc: 0.9965 - val_loss: 0.0088 - val_acc: 0.9690\n",
            "Epoch 3/100\n",
            "100/100 [==============================] - 27s 269ms/step - loss: 0.0159 - acc: 0.9940 - val_loss: 1.0229 - val_acc: 0.9690\n",
            "Epoch 4/100\n",
            "100/100 [==============================] - 27s 268ms/step - loss: 0.0185 - acc: 0.9960 - val_loss: 2.7910e-04 - val_acc: 0.9700\n",
            "Epoch 5/100\n",
            "100/100 [==============================] - 27s 268ms/step - loss: 0.0114 - acc: 0.9965 - val_loss: 0.3581 - val_acc: 0.9700\n",
            "Epoch 6/100\n",
            "100/100 [==============================] - 27s 267ms/step - loss: 0.0097 - acc: 0.9960 - val_loss: 0.0018 - val_acc: 0.9700\n",
            "Epoch 7/100\n",
            "100/100 [==============================] - 27s 267ms/step - loss: 0.0050 - acc: 0.9970 - val_loss: 0.3982 - val_acc: 0.9710\n",
            "Epoch 8/100\n",
            "100/100 [==============================] - 27s 269ms/step - loss: 0.0063 - acc: 0.9970 - val_loss: 0.0057 - val_acc: 0.9710\n",
            "Epoch 9/100\n",
            "100/100 [==============================] - 27s 267ms/step - loss: 0.0055 - acc: 0.9985 - val_loss: 9.8489e-05 - val_acc: 0.9710\n",
            "Epoch 10/100\n",
            "100/100 [==============================] - 27s 267ms/step - loss: 0.0103 - acc: 0.9955 - val_loss: 0.9348 - val_acc: 0.9680\n",
            "Epoch 11/100\n",
            "100/100 [==============================] - 27s 267ms/step - loss: 0.0109 - acc: 0.9970 - val_loss: 1.3762 - val_acc: 0.9700\n",
            "Epoch 12/100\n",
            "100/100 [==============================] - 27s 268ms/step - loss: 0.0036 - acc: 0.9990 - val_loss: 1.8747e-06 - val_acc: 0.9690\n",
            "Epoch 13/100\n",
            "100/100 [==============================] - 27s 267ms/step - loss: 0.0098 - acc: 0.9975 - val_loss: 0.2465 - val_acc: 0.9690\n",
            "Epoch 14/100\n",
            "100/100 [==============================] - 27s 267ms/step - loss: 0.0047 - acc: 0.9985 - val_loss: 3.2869e-05 - val_acc: 0.9690\n",
            "Epoch 15/100\n",
            "100/100 [==============================] - 27s 266ms/step - loss: 0.0084 - acc: 0.9970 - val_loss: 0.0043 - val_acc: 0.9700\n",
            "Epoch 16/100\n",
            "100/100 [==============================] - 27s 266ms/step - loss: 0.0157 - acc: 0.9965 - val_loss: 1.4695 - val_acc: 0.9690\n",
            "Epoch 17/100\n",
            "100/100 [==============================] - 27s 268ms/step - loss: 0.0098 - acc: 0.9965 - val_loss: 0.7327 - val_acc: 0.9710\n",
            "Epoch 18/100\n",
            "100/100 [==============================] - 27s 267ms/step - loss: 0.0071 - acc: 0.9990 - val_loss: 0.8232 - val_acc: 0.9700\n",
            "Epoch 19/100\n",
            "100/100 [==============================] - 27s 268ms/step - loss: 0.0015 - acc: 1.0000 - val_loss: 0.0014 - val_acc: 0.9700\n",
            "Epoch 20/100\n",
            "100/100 [==============================] - 27s 267ms/step - loss: 0.0129 - acc: 0.9950 - val_loss: 4.8322e-07 - val_acc: 0.9700\n",
            "Epoch 21/100\n",
            "100/100 [==============================] - 27s 267ms/step - loss: 0.0166 - acc: 0.9950 - val_loss: 5.6140e-07 - val_acc: 0.9710\n",
            "Epoch 22/100\n",
            "100/100 [==============================] - 27s 268ms/step - loss: 0.0036 - acc: 0.9990 - val_loss: 7.9643e-07 - val_acc: 0.9720\n",
            "Epoch 23/100\n",
            "100/100 [==============================] - 27s 267ms/step - loss: 0.0175 - acc: 0.9960 - val_loss: 1.0445e-06 - val_acc: 0.9700\n",
            "Epoch 24/100\n",
            "100/100 [==============================] - 27s 269ms/step - loss: 0.0083 - acc: 0.9975 - val_loss: 0.0021 - val_acc: 0.9730\n",
            "Epoch 25/100\n",
            "100/100 [==============================] - 27s 267ms/step - loss: 0.0087 - acc: 0.9985 - val_loss: 2.1178e-08 - val_acc: 0.9710\n",
            "Epoch 26/100\n",
            "100/100 [==============================] - 27s 266ms/step - loss: 0.0057 - acc: 0.9985 - val_loss: 0.3283 - val_acc: 0.9690\n",
            "Epoch 27/100\n",
            "100/100 [==============================] - 27s 267ms/step - loss: 0.0034 - acc: 0.9995 - val_loss: 2.0394e-04 - val_acc: 0.9700\n",
            "Epoch 28/100\n",
            "100/100 [==============================] - 27s 266ms/step - loss: 0.0057 - acc: 0.9980 - val_loss: 1.0981e-04 - val_acc: 0.9690\n",
            "Epoch 29/100\n",
            "100/100 [==============================] - 27s 268ms/step - loss: 0.0105 - acc: 0.9980 - val_loss: 1.8432e-04 - val_acc: 0.9710\n",
            "Epoch 30/100\n",
            "100/100 [==============================] - 27s 268ms/step - loss: 0.0077 - acc: 0.9970 - val_loss: 0.0016 - val_acc: 0.9690\n",
            "Epoch 31/100\n",
            "100/100 [==============================] - 27s 269ms/step - loss: 0.0065 - acc: 0.9970 - val_loss: 0.8698 - val_acc: 0.9700\n",
            "Epoch 32/100\n",
            "100/100 [==============================] - 27s 268ms/step - loss: 0.0085 - acc: 0.9970 - val_loss: 0.1816 - val_acc: 0.9690\n",
            "Epoch 33/100\n",
            "100/100 [==============================] - 27s 268ms/step - loss: 0.0106 - acc: 0.9965 - val_loss: 0.3079 - val_acc: 0.9690\n",
            "Epoch 34/100\n",
            "100/100 [==============================] - 27s 267ms/step - loss: 0.0072 - acc: 0.9970 - val_loss: 1.1875e-05 - val_acc: 0.9700\n",
            "Epoch 35/100\n",
            "100/100 [==============================] - 27s 267ms/step - loss: 0.0031 - acc: 0.9995 - val_loss: 3.4131e-05 - val_acc: 0.9710\n",
            "Epoch 36/100\n",
            "100/100 [==============================] - 27s 267ms/step - loss: 0.0053 - acc: 0.9980 - val_loss: 1.2808e-06 - val_acc: 0.9700\n",
            "Epoch 37/100\n",
            "100/100 [==============================] - 27s 269ms/step - loss: 0.0048 - acc: 0.9980 - val_loss: 0.4908 - val_acc: 0.9700\n",
            "Epoch 38/100\n",
            "100/100 [==============================] - 27s 266ms/step - loss: 0.0054 - acc: 0.9985 - val_loss: 1.4890e-05 - val_acc: 0.9710\n",
            "Epoch 39/100\n",
            "100/100 [==============================] - 27s 269ms/step - loss: 0.0052 - acc: 0.9990 - val_loss: 0.2566 - val_acc: 0.9740\n",
            "Epoch 40/100\n",
            "100/100 [==============================] - 27s 268ms/step - loss: 0.0056 - acc: 0.9980 - val_loss: 0.0035 - val_acc: 0.9720\n",
            "Epoch 41/100\n",
            "100/100 [==============================] - 27s 268ms/step - loss: 0.0032 - acc: 0.9990 - val_loss: 0.8382 - val_acc: 0.9690\n",
            "Epoch 42/100\n",
            "100/100 [==============================] - 27s 268ms/step - loss: 0.0107 - acc: 0.9975 - val_loss: 3.4554 - val_acc: 0.9650\n",
            "Epoch 43/100\n",
            "100/100 [==============================] - 27s 268ms/step - loss: 0.0019 - acc: 0.9990 - val_loss: 0.1002 - val_acc: 0.9710\n",
            "Epoch 44/100\n",
            "100/100 [==============================] - 27s 268ms/step - loss: 0.0085 - acc: 0.9970 - val_loss: 5.7644e-08 - val_acc: 0.9660\n",
            "Epoch 45/100\n",
            "100/100 [==============================] - 27s 269ms/step - loss: 0.0014 - acc: 0.9995 - val_loss: 0.0032 - val_acc: 0.9730\n",
            "Epoch 46/100\n",
            "100/100 [==============================] - 27s 268ms/step - loss: 0.0098 - acc: 0.9970 - val_loss: 0.1918 - val_acc: 0.9630\n",
            "Epoch 47/100\n",
            "100/100 [==============================] - 27s 267ms/step - loss: 0.0059 - acc: 0.9985 - val_loss: 0.6842 - val_acc: 0.9720\n",
            "Epoch 48/100\n",
            "100/100 [==============================] - 27s 268ms/step - loss: 0.0044 - acc: 0.9980 - val_loss: 2.9523e-05 - val_acc: 0.9720\n",
            "Epoch 49/100\n",
            "100/100 [==============================] - 27s 267ms/step - loss: 0.0068 - acc: 0.9960 - val_loss: 0.8221 - val_acc: 0.9690\n",
            "Epoch 50/100\n",
            "100/100 [==============================] - 27s 267ms/step - loss: 0.0088 - acc: 0.9970 - val_loss: 0.8775 - val_acc: 0.9640\n",
            "Epoch 51/100\n",
            "100/100 [==============================] - 27s 267ms/step - loss: 0.0018 - acc: 0.9995 - val_loss: 5.7475e-06 - val_acc: 0.9720\n",
            "Epoch 52/100\n",
            "100/100 [==============================] - 27s 269ms/step - loss: 0.0090 - acc: 0.9975 - val_loss: 1.6116e-04 - val_acc: 0.9700\n",
            "Epoch 53/100\n",
            "100/100 [==============================] - 27s 268ms/step - loss: 0.0055 - acc: 0.9985 - val_loss: 1.7816 - val_acc: 0.9720\n",
            "Epoch 54/100\n",
            "100/100 [==============================] - 27s 270ms/step - loss: 0.0019 - acc: 0.9990 - val_loss: 0.6709 - val_acc: 0.9680\n",
            "Epoch 55/100\n",
            "100/100 [==============================] - 27s 267ms/step - loss: 0.0098 - acc: 0.9975 - val_loss: 3.9245e-06 - val_acc: 0.9710\n",
            "Epoch 56/100\n",
            "100/100 [==============================] - 27s 267ms/step - loss: 0.0037 - acc: 0.9985 - val_loss: 0.2963 - val_acc: 0.9720\n",
            "Epoch 57/100\n",
            "100/100 [==============================] - 27s 268ms/step - loss: 0.0105 - acc: 0.9955 - val_loss: 0.6856 - val_acc: 0.9720\n",
            "Epoch 58/100\n",
            "100/100 [==============================] - 27s 268ms/step - loss: 0.0117 - acc: 0.9985 - val_loss: 5.0202e-05 - val_acc: 0.9720\n",
            "Epoch 59/100\n",
            "100/100 [==============================] - 27s 269ms/step - loss: 0.0040 - acc: 0.9985 - val_loss: 0.0542 - val_acc: 0.9700\n",
            "Epoch 60/100\n",
            "100/100 [==============================] - 27s 268ms/step - loss: 0.0028 - acc: 0.9985 - val_loss: 0.1435 - val_acc: 0.9720\n",
            "Epoch 61/100\n",
            "100/100 [==============================] - 27s 269ms/step - loss: 2.8312e-04 - acc: 1.0000 - val_loss: 2.9421e-07 - val_acc: 0.9730\n",
            "Epoch 62/100\n",
            "100/100 [==============================] - 27s 269ms/step - loss: 0.0038 - acc: 0.9980 - val_loss: 1.9132e-06 - val_acc: 0.9730\n",
            "Epoch 63/100\n",
            "100/100 [==============================] - 27s 268ms/step - loss: 0.0033 - acc: 0.9990 - val_loss: 0.0094 - val_acc: 0.9710\n",
            "Epoch 64/100\n",
            "100/100 [==============================] - 27s 269ms/step - loss: 0.0038 - acc: 0.9995 - val_loss: 0.0772 - val_acc: 0.9720\n",
            "Epoch 65/100\n",
            "100/100 [==============================] - 27s 269ms/step - loss: 0.0066 - acc: 0.9980 - val_loss: 5.4114e-05 - val_acc: 0.9720\n",
            "Epoch 66/100\n",
            "100/100 [==============================] - 27s 268ms/step - loss: 0.0070 - acc: 0.9980 - val_loss: 3.0368e-11 - val_acc: 0.9730\n",
            "Epoch 67/100\n",
            "100/100 [==============================] - 27s 267ms/step - loss: 0.0025 - acc: 0.9985 - val_loss: 0.3862 - val_acc: 0.9720\n",
            "Epoch 68/100\n",
            "100/100 [==============================] - 27s 266ms/step - loss: 0.0076 - acc: 0.9965 - val_loss: 7.9921e-06 - val_acc: 0.9730\n",
            "Epoch 69/100\n",
            "100/100 [==============================] - 27s 268ms/step - loss: 0.0015 - acc: 0.9990 - val_loss: 1.2170e-05 - val_acc: 0.9710\n",
            "Epoch 70/100\n",
            "100/100 [==============================] - 27s 268ms/step - loss: 6.2985e-04 - acc: 1.0000 - val_loss: 1.2091 - val_acc: 0.9710\n",
            "Epoch 71/100\n",
            "100/100 [==============================] - 27s 268ms/step - loss: 0.0036 - acc: 0.9990 - val_loss: 0.5168 - val_acc: 0.9740\n",
            "Epoch 72/100\n",
            "100/100 [==============================] - 27s 269ms/step - loss: 0.0040 - acc: 0.9985 - val_loss: 1.1299 - val_acc: 0.9720\n",
            "Epoch 73/100\n",
            "100/100 [==============================] - 27s 268ms/step - loss: 0.0050 - acc: 0.9985 - val_loss: 4.6768e-05 - val_acc: 0.9710\n",
            "Epoch 74/100\n",
            "100/100 [==============================] - 27s 268ms/step - loss: 0.0012 - acc: 0.9995 - val_loss: 0.8938 - val_acc: 0.9700\n",
            "Epoch 75/100\n",
            "100/100 [==============================] - 27s 268ms/step - loss: 0.0019 - acc: 0.9995 - val_loss: 0.0044 - val_acc: 0.9720\n",
            "Epoch 76/100\n",
            "100/100 [==============================] - 27s 268ms/step - loss: 0.0016 - acc: 0.9995 - val_loss: 3.2896e-05 - val_acc: 0.9710\n",
            "Epoch 77/100\n",
            "100/100 [==============================] - 27s 269ms/step - loss: 0.0039 - acc: 0.9995 - val_loss: 0.7262 - val_acc: 0.9710\n",
            "Epoch 78/100\n",
            "100/100 [==============================] - 27s 269ms/step - loss: 0.0052 - acc: 0.9985 - val_loss: 0.0020 - val_acc: 0.9720\n",
            "Epoch 79/100\n",
            "100/100 [==============================] - 27s 269ms/step - loss: 0.0021 - acc: 0.9990 - val_loss: 1.9262e-04 - val_acc: 0.9640\n",
            "Epoch 80/100\n",
            "100/100 [==============================] - 27s 269ms/step - loss: 0.0054 - acc: 0.9975 - val_loss: 0.8631 - val_acc: 0.9680\n",
            "Epoch 81/100\n",
            "100/100 [==============================] - 27s 268ms/step - loss: 0.0092 - acc: 0.9975 - val_loss: 9.4351e-08 - val_acc: 0.9710\n",
            "Epoch 82/100\n",
            "100/100 [==============================] - 27s 268ms/step - loss: 0.0018 - acc: 0.9990 - val_loss: 1.2908e-05 - val_acc: 0.9690\n",
            "Epoch 83/100\n",
            "100/100 [==============================] - 27s 267ms/step - loss: 0.0037 - acc: 0.9990 - val_loss: 6.5842e-05 - val_acc: 0.9710\n",
            "Epoch 84/100\n",
            "100/100 [==============================] - 27s 267ms/step - loss: 0.0061 - acc: 0.9980 - val_loss: 0.5238 - val_acc: 0.9680\n",
            "Epoch 85/100\n",
            "100/100 [==============================] - 27s 267ms/step - loss: 0.0094 - acc: 0.9975 - val_loss: 0.5088 - val_acc: 0.9680\n",
            "Epoch 86/100\n",
            "100/100 [==============================] - 27s 268ms/step - loss: 0.0075 - acc: 0.9980 - val_loss: 0.0487 - val_acc: 0.9680\n",
            "Epoch 87/100\n",
            "100/100 [==============================] - 27s 267ms/step - loss: 0.0027 - acc: 0.9990 - val_loss: 6.0193e-06 - val_acc: 0.9670\n",
            "Epoch 88/100\n",
            "100/100 [==============================] - 27s 266ms/step - loss: 0.0097 - acc: 0.9985 - val_loss: 0.9057 - val_acc: 0.9680\n",
            "Epoch 89/100\n",
            "100/100 [==============================] - 27s 265ms/step - loss: 0.0058 - acc: 0.9985 - val_loss: 1.0814e-11 - val_acc: 0.9680\n",
            "Epoch 90/100\n",
            "100/100 [==============================] - 26s 264ms/step - loss: 0.0067 - acc: 0.9970 - val_loss: 5.3125e-09 - val_acc: 0.9690\n",
            "Epoch 91/100\n",
            "100/100 [==============================] - 27s 268ms/step - loss: 0.0023 - acc: 0.9990 - val_loss: 0.2122 - val_acc: 0.9700\n",
            "Epoch 92/100\n",
            "100/100 [==============================] - 27s 267ms/step - loss: 0.0011 - acc: 0.9990 - val_loss: 1.0904e-11 - val_acc: 0.9700\n",
            "Epoch 93/100\n",
            "100/100 [==============================] - 27s 268ms/step - loss: 0.0057 - acc: 0.9975 - val_loss: 0.0377 - val_acc: 0.9670\n",
            "Epoch 94/100\n",
            "100/100 [==============================] - 27s 268ms/step - loss: 8.4307e-04 - acc: 1.0000 - val_loss: 0.1114 - val_acc: 0.9700\n",
            "Epoch 95/100\n",
            "100/100 [==============================] - 27s 268ms/step - loss: 0.0035 - acc: 0.9980 - val_loss: 5.0935e-13 - val_acc: 0.9690\n",
            "Epoch 96/100\n",
            "100/100 [==============================] - 27s 269ms/step - loss: 0.0025 - acc: 0.9985 - val_loss: 0.0300 - val_acc: 0.9700\n",
            "Epoch 97/100\n",
            "100/100 [==============================] - 27s 267ms/step - loss: 0.0026 - acc: 0.9985 - val_loss: 0.3815 - val_acc: 0.9690\n",
            "Epoch 98/100\n",
            "100/100 [==============================] - 27s 268ms/step - loss: 0.0090 - acc: 0.9975 - val_loss: 1.0697 - val_acc: 0.9700\n",
            "Epoch 99/100\n",
            "100/100 [==============================] - 27s 268ms/step - loss: 7.1108e-04 - acc: 0.9995 - val_loss: 5.1767e-07 - val_acc: 0.9620\n",
            "Epoch 100/100\n",
            "100/100 [==============================] - 27s 267ms/step - loss: 0.0011 - acc: 0.9990 - val_loss: 0.0014 - val_acc: 0.9690\n"
          ],
          "name": "stdout"
        }
      ]
    },
    {
      "cell_type": "markdown",
      "metadata": {
        "id": "JJz2xjH8GZSv",
        "colab_type": "text"
      },
      "source": [
        "## 透過圖表進行分析 - 預先訓練神經網路法(凍結 CNN)：大約 97% 正確率"
      ]
    },
    {
      "cell_type": "code",
      "metadata": {
        "id": "VbD38zCYmjO1",
        "colab_type": "code",
        "outputId": "da102b8c-23b7-4214-c19f-221f0ece2c4d",
        "colab": {
          "base_uri": "https://localhost:8080/",
          "height": 545
        }
      },
      "source": [
        "def smooth_curve(points, factor=0.8):\n",
        "  smoothed_points = []\n",
        "  for point in points:\n",
        "    if smoothed_points:\n",
        "      previous = smoothed_points[-1]\n",
        "      smoothed_points.append(previous * factor + point * (1 - factor))\n",
        "    else:\n",
        "      smoothed_points.append(point)\n",
        "  return smoothed_points\n",
        "\n",
        "plt.plot(epochs,\n",
        "         smooth_curve(acc), 'bo', label='Smoothed training acc')\n",
        "plt.plot(epochs,\n",
        "         smooth_curve(val_acc), 'b', label='Smoothed validation acc')\n",
        "plt.title('Training and validation accuracy')\n",
        "plt.legend()\n",
        "\n",
        "plt.figure()\n",
        "\n",
        "plt.plot(epochs,\n",
        "         smooth_curve(loss), 'bo', label='Smoothed training loss')\n",
        "plt.plot(epochs,\n",
        "         smooth_curve(val_loss), 'b', label='Smoothed validation loss')\n",
        "plt.title('Training and validation loss')\n",
        "plt.legend()\n",
        "\n",
        "plt.show()"
      ],
      "execution_count": 15,
      "outputs": [
        {
          "output_type": "display_data",
          "data": {
            "image/png": "[encoded data removed]",
            "text/plain": [
              "<Figure size 432x288 with 1 Axes>"
            ]
          },
          "metadata": {
            "tags": [],
            "needs_background": "light"
          }
        },
        {
          "output_type": "display_data",
          "data": {
            "image/png": "[encoded data removed]",
            "text/plain": [
              "<Figure size 432x288 with 1 Axes>"
            ]
          },
          "metadata": {
            "tags": [],
            "needs_background": "light"
          }
        }
      ]
    },
    {
      "cell_type": "code",
      "metadata": {
        "id": "jKGRdDLzmknl",
        "colab_type": "code",
        "outputId": "26a54170-b42d-429b-bade-6d03d02d2bc9",
        "colab": {
          "base_uri": "https://localhost:8080/",
          "height": 51
        }
      },
      "source": [
        "test_generator = test_datagen.flow_from_directory(\n",
        "        test_dir,\n",
        "        target_size=(150, 150),\n",
        "        batch_size=20,\n",
        "        class_mode='binary')\n",
        "\n",
        "test_loss, test_acc = model.evaluate_generator(test_generator, steps=50)\n",
        "print('test acc:', test_acc)"
      ],
      "execution_count": 16,
      "outputs": [
        {
          "output_type": "stream",
          "text": [
            "Found 1000 images belonging to 2 classes.\n",
            "test acc: 0.972000002861023\n"
          ],
          "name": "stdout"
        }
      ]
    },
    {
      "cell_type": "markdown",
      "metadata": {
        "id": "f4Ur-jJ_uAqy",
        "colab_type": "text"
      },
      "source": [
        "採用「預先訓練神經網路法(凍結 CNN)」，使用 Test Dataset 進行評估，大約可以提高到 97% 正確率。"
      ]
    }
  ]
}
