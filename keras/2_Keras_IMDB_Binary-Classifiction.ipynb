{
  "nbformat": 4,
  "nbformat_minor": 0,
  "metadata": {
    "kernelspec": {
      "name": "python3",
      "display_name": "Python 3"
    },
    "language_info": {
      "codemirror_mode": {
        "name": "ipython",
        "version": 3
      },
      "file_extension": ".py",
      "mimetype": "text/x-python",
      "name": "python",
      "nbconvert_exporter": "python",
      "pygments_lexer": "ipython3",
      "version": "3.5.2"
    },
    "colab": {
      "name": "2_Keras_IMDB_Binary-Classifiction.ipynb",
      "provenance": [],
      "machine_shape": "hm"
    },
    "accelerator": "GPU"
  },
  "cells": [
    {
      "cell_type": "code",
      "metadata": {
        "id": "xD_33W6AnucL",
        "colab_type": "code",
        "outputId": "460cdf14-8b06-437e-b58e-f4c337788d8f",
        "colab": {
          "base_uri": "https://localhost:8080/",
          "height": 34
        }
      },
      "source": [
        "import keras\n",
        "keras.__version__"
      ],
      "execution_count": 14,
      "outputs": [
        {
          "output_type": "execute_result",
          "data": {
            "text/plain": [
              "'2.3.1'"
            ]
          },
          "metadata": {
            "tags": []
          },
          "execution_count": 14
        }
      ]
    },
    {
      "cell_type": "markdown",
      "metadata": {
        "id": "6pkkX8dinucU",
        "colab_type": "text"
      },
      "source": [
        "# 透過二元分類訓練 IMDB 評論資料\n",
        "\n",
        "二元分類或稱兩類分類可能是在機器學習中應用最廣泛問題。只要處理的問題只有兩個結果，就可以適用。在這個例子中，我們將根據 IMDB 評論的文本內容將電影評論分為「正面」評論和「負面」評論。"
      ]
    },
    {
      "cell_type": "markdown",
      "metadata": {
        "id": "aI_IyEBrnucW",
        "colab_type": "text"
      },
      "source": [
        "## 關於 IMDB Dataset 資料集\n",
        "\n",
        "IMDB Dataset 是來自 Internet 電影數據庫 50,000 條評論文字。他們分為 25,000 條訓練數據和 25,000 條測試數據，每組皆包含包括 50％ 的負面評論和 50％ 的正面評論。\n",
        "\n",
        "我們可以直接透過 Keras Datasets 函式庫載入已經整理好的資料集。這些資料集已經經過處理，會將評論依據單詞順序，排列為整數序列，其中每個整數代表字典中的特定單詞。如下："
      ]
    },
    {
      "cell_type": "code",
      "metadata": {
        "id": "nDxW4TrunucY",
        "colab_type": "code",
        "colab": {}
      },
      "source": [
        "from keras.datasets import imdb\n",
        "(train_data, train_labels), (test_data, test_labels) = imdb.load_data(num_words=10000)"
      ],
      "execution_count": 0,
      "outputs": []
    },
    {
      "cell_type": "markdown",
      "metadata": {
        "id": "58LVwCvMnucd",
        "colab_type": "text"
      },
      "source": [
        "num_words=10000 表示我們只採用前 10000 個常出現的字詞，此外在 label 中 0 表示負評 1 表示正評。"
      ]
    },
    {
      "cell_type": "code",
      "metadata": {
        "id": "cchIlS1Dnucr",
        "colab_type": "code",
        "outputId": "be54efdd-4c21-4b61-aa48-d351a06365ab",
        "colab": {
          "base_uri": "https://localhost:8080/",
          "height": 34
        }
      },
      "source": [
        "max([max(sequence) for sequence in train_data])"
      ],
      "execution_count": 16,
      "outputs": [
        {
          "output_type": "execute_result",
          "data": {
            "text/plain": [
              "9999"
            ]
          },
          "metadata": {
            "tags": []
          },
          "execution_count": 16
        }
      ]
    },
    {
      "cell_type": "markdown",
      "metadata": {
        "id": "QJSBbYzhnucy",
        "colab_type": "text"
      },
      "source": [
        "也可以透過字典檔，將資料組合回評論文字。"
      ]
    },
    {
      "cell_type": "code",
      "metadata": {
        "id": "hsJ4dE5knucz",
        "colab_type": "code",
        "outputId": "e3d19b87-0f1d-4fa5-d3e3-f999e369f927",
        "colab": {
          "base_uri": "https://localhost:8080/",
          "height": 54
        }
      },
      "source": [
        "# word_index is a dictionary mapping words to an integer index\n",
        "word_index = imdb.get_word_index()\n",
        "# We reverse it, mapping integer indices to words\n",
        "reverse_word_index = dict([(value, key) for (key, value) in word_index.items()])\n",
        "# We decode the review; note that our indices were offset by 3\n",
        "# because 0, 1 and 2 are reserved indices for \"padding\", \"start of sequence\", and \"unknown\".\n",
        "decoded_review = ' '.join([reverse_word_index.get(i - 3, '?') for i in train_data[0]])\n",
        "# show\n",
        "decoded_review"
      ],
      "execution_count": 17,
      "outputs": [
        {
          "output_type": "execute_result",
          "data": {
            "text/plain": [
              "\"? this film was just brilliant casting location scenery story direction everyone's really suited the part they played and you could just imagine being there robert ? is an amazing actor and now the same being director ? father came from the same scottish island as myself so i loved the fact there was a real connection with this film the witty remarks throughout the film were great it was just brilliant so much that i bought the film as soon as it was released for ? and would recommend it to everyone to watch and the fly fishing was amazing really cried at the end it was so sad and you know what they say if you cry at a film it must have been good and this definitely was also ? to the two little boy's that played the ? of norman and paul they were just brilliant children are often left out of the ? list i think because the stars that play them all grown up are such a big profile for the whole film but these children are amazing and should be praised for what they have done don't you think the whole story was so lovely because it was true and was someone's life after all that was shared with us all\""
            ]
          },
          "metadata": {
            "tags": []
          },
          "execution_count": 17
        }
      ]
    },
    {
      "cell_type": "markdown",
      "metadata": {
        "id": "oI3yeUXRnuc4",
        "colab_type": "text"
      },
      "source": [
        "## 處理資料\n",
        "\n",
        "我們無法將代表字典檔索引位置的整數資料直接送進網路進行訓練，因此需要對資料進行轉換。由於我們只採用前 10000 常用字詞作為資料集，因此輸入資料可以轉換為 10000 維度的 one-hot-encode，例如 [3, 18] 表示一個全部都是 0 的陣列，只有 index 3, 18 是 1。我們會將這樣的資料格式作為張量進行訓練，轉換如下："
      ]
    },
    {
      "cell_type": "code",
      "metadata": {
        "id": "tK4Y7UQunuc5",
        "colab_type": "code",
        "colab": {}
      },
      "source": [
        "import numpy as np\n",
        "\n",
        "def vectorize_sequences(sequences, dimension=10000):\n",
        "    # Create an all-zero matrix of shape (len(sequences), dimension)\n",
        "    results = np.zeros((len(sequences), dimension))\n",
        "    for i, sequence in enumerate(sequences):\n",
        "        results[i, sequence] = 1.  # set specific indices of results[i] to 1s\n",
        "    return results\n",
        "\n",
        "# Our vectorized training data\n",
        "x_train = vectorize_sequences(train_data)\n",
        "# Our vectorized test data\n",
        "x_test = vectorize_sequences(test_data)"
      ],
      "execution_count": 0,
      "outputs": []
    },
    {
      "cell_type": "markdown",
      "metadata": {
        "id": "obsjCOTwnudD",
        "colab_type": "text"
      },
      "source": [
        "將結果標記進行正規化"
      ]
    },
    {
      "cell_type": "code",
      "metadata": {
        "id": "sStU2wu8nudE",
        "colab_type": "code",
        "colab": {}
      },
      "source": [
        "# Our vectorized labels\n",
        "y_train = np.asarray(train_labels).astype('float32')\n",
        "y_test = np.asarray(test_labels).astype('float32')"
      ],
      "execution_count": 0,
      "outputs": []
    },
    {
      "cell_type": "markdown",
      "metadata": {
        "id": "x4FBAIn6nudI",
        "colab_type": "text"
      },
      "source": [
        "## 建立網路架構\n",
        "\n",
        "這裡我們預計使用三層網路，全連接層僅使用兩層 16 個神經元的網路，啟動函數設定為 relu，連接最後使用一個神經元輸出（表示正評或負評），並使用 sigmoid 作為最後輸出的啟動函數。由下而上網路架構如下：\n",
        "\n",
        "![3-layer network](https://s3.amazonaws.com/book.keras.io/img/ch3/3_layer_network.png)"
      ]
    },
    {
      "cell_type": "code",
      "metadata": {
        "id": "RWEw7cB6nudK",
        "colab_type": "code",
        "colab": {}
      },
      "source": [
        "from keras import models\n",
        "from keras import layers\n",
        "\n",
        "model = models.Sequential()\n",
        "model.add(layers.Dense(16, activation='relu', input_shape=(10000,)))\n",
        "model.add(layers.Dense(16, activation='relu'))\n",
        "model.add(layers.Dense(1, activation='sigmoid'))"
      ],
      "execution_count": 0,
      "outputs": []
    },
    {
      "cell_type": "markdown",
      "metadata": {
        "id": "6CCbFrDjnudO",
        "colab_type": "text"
      },
      "source": [
        "\n",
        "將優化器設定為 rmsprop，損失函數使用 binary_crossentropy，將網路進行 Compile"
      ]
    },
    {
      "cell_type": "code",
      "metadata": {
        "id": "GVrxW9PpnudP",
        "colab_type": "code",
        "colab": {}
      },
      "source": [
        "model.compile(optimizer='rmsprop',\n",
        "              loss='binary_crossentropy',\n",
        "              metrics=['accuracy'])"
      ],
      "execution_count": 0,
      "outputs": []
    },
    {
      "cell_type": "markdown",
      "metadata": {
        "id": "mVzPG7flnuda",
        "colab_type": "text"
      },
      "source": [
        "## 訓練模型\n",
        "\n",
        "先將準備訓練的 25000 筆資料集，抽出 10000 筆資料集用在訓練時期的驗證資料，好讓我們監控訓練過程的準確性變化。如下："
      ]
    },
    {
      "cell_type": "code",
      "metadata": {
        "id": "2LvWfOoFnudc",
        "colab_type": "code",
        "colab": {}
      },
      "source": [
        "x_val = x_train[:10000]\n",
        "partial_x_train = x_train[10000:]\n",
        "\n",
        "y_val = y_train[:10000]\n",
        "partial_y_train = y_train[10000:]"
      ],
      "execution_count": 0,
      "outputs": []
    },
    {
      "cell_type": "markdown",
      "metadata": {
        "collapsed": true,
        "id": "LHmB9NWPnudf",
        "colab_type": "text"
      },
      "source": [
        "開始訓練模型"
      ]
    },
    {
      "cell_type": "code",
      "metadata": {
        "id": "iA2psGbenudg",
        "colab_type": "code",
        "outputId": "a751a639-7423-4ebc-ee0d-c556f897fa00",
        "colab": {
          "base_uri": "https://localhost:8080/",
          "height": 1000
        }
      },
      "source": [
        "history = model.fit(partial_x_train,\n",
        "                    partial_y_train,\n",
        "                    epochs=100,\n",
        "                    batch_size=512,\n",
        "                    validation_data=(x_val, y_val))"
      ],
      "execution_count": 23,
      "outputs": [
        {
          "output_type": "stream",
          "text": [
            "Train on 15000 samples, validate on 10000 samples\n",
            "Epoch 1/100\n",
            "15000/15000 [==============================] - 2s 108us/step - loss: 0.5025 - accuracy: 0.7939 - val_loss: 0.3753 - val_accuracy: 0.8700\n",
            "Epoch 2/100\n",
            "15000/15000 [==============================] - 2s 102us/step - loss: 0.2976 - accuracy: 0.9042 - val_loss: 0.2985 - val_accuracy: 0.8887\n",
            "Epoch 3/100\n",
            "15000/15000 [==============================] - 2s 102us/step - loss: 0.2195 - accuracy: 0.9275 - val_loss: 0.2767 - val_accuracy: 0.8904\n",
            "Epoch 4/100\n",
            "15000/15000 [==============================] - 2s 102us/step - loss: 0.1729 - accuracy: 0.9425 - val_loss: 0.2822 - val_accuracy: 0.8861\n",
            "Epoch 5/100\n",
            "15000/15000 [==============================] - 2s 103us/step - loss: 0.1406 - accuracy: 0.9552 - val_loss: 0.2909 - val_accuracy: 0.8854\n",
            "Epoch 6/100\n",
            "15000/15000 [==============================] - 2s 102us/step - loss: 0.1157 - accuracy: 0.9632 - val_loss: 0.3563 - val_accuracy: 0.8681\n",
            "Epoch 7/100\n",
            "15000/15000 [==============================] - 2s 102us/step - loss: 0.0990 - accuracy: 0.9700 - val_loss: 0.3246 - val_accuracy: 0.8794\n",
            "Epoch 8/100\n",
            "15000/15000 [==============================] - 2s 102us/step - loss: 0.0822 - accuracy: 0.9757 - val_loss: 0.3302 - val_accuracy: 0.8813\n",
            "Epoch 9/100\n",
            "15000/15000 [==============================] - 2s 103us/step - loss: 0.0677 - accuracy: 0.9822 - val_loss: 0.3586 - val_accuracy: 0.8806\n",
            "Epoch 10/100\n",
            "15000/15000 [==============================] - 2s 102us/step - loss: 0.0596 - accuracy: 0.9835 - val_loss: 0.3834 - val_accuracy: 0.8785\n",
            "Epoch 11/100\n",
            "15000/15000 [==============================] - 2s 101us/step - loss: 0.0482 - accuracy: 0.9877 - val_loss: 0.4083 - val_accuracy: 0.8775\n",
            "Epoch 12/100\n",
            "15000/15000 [==============================] - 2s 101us/step - loss: 0.0394 - accuracy: 0.9913 - val_loss: 0.4466 - val_accuracy: 0.8691\n",
            "Epoch 13/100\n",
            "15000/15000 [==============================] - 2s 100us/step - loss: 0.0334 - accuracy: 0.9931 - val_loss: 0.4737 - val_accuracy: 0.8754\n",
            "Epoch 14/100\n",
            "15000/15000 [==============================] - 1s 100us/step - loss: 0.0253 - accuracy: 0.9953 - val_loss: 0.4941 - val_accuracy: 0.8691\n",
            "Epoch 15/100\n",
            "15000/15000 [==============================] - 1s 100us/step - loss: 0.0215 - accuracy: 0.9960 - val_loss: 0.5307 - val_accuracy: 0.8673\n",
            "Epoch 16/100\n",
            "15000/15000 [==============================] - 2s 100us/step - loss: 0.0186 - accuracy: 0.9959 - val_loss: 0.5687 - val_accuracy: 0.8686\n",
            "Epoch 17/100\n",
            "15000/15000 [==============================] - 2s 102us/step - loss: 0.0120 - accuracy: 0.9985 - val_loss: 0.6024 - val_accuracy: 0.8646\n",
            "Epoch 18/100\n",
            "15000/15000 [==============================] - 2s 101us/step - loss: 0.0114 - accuracy: 0.9985 - val_loss: 0.6483 - val_accuracy: 0.8676\n",
            "Epoch 19/100\n",
            "15000/15000 [==============================] - 2s 101us/step - loss: 0.0110 - accuracy: 0.9977 - val_loss: 0.6822 - val_accuracy: 0.8650\n",
            "Epoch 20/100\n",
            "15000/15000 [==============================] - 2s 102us/step - loss: 0.0051 - accuracy: 0.9997 - val_loss: 0.7051 - val_accuracy: 0.8635\n",
            "Epoch 21/100\n",
            "15000/15000 [==============================] - 2s 102us/step - loss: 0.0087 - accuracy: 0.9982 - val_loss: 0.7417 - val_accuracy: 0.8627\n",
            "Epoch 22/100\n",
            "15000/15000 [==============================] - 2s 103us/step - loss: 0.0030 - accuracy: 0.9999 - val_loss: 0.7700 - val_accuracy: 0.8606\n",
            "Epoch 23/100\n",
            "15000/15000 [==============================] - 2s 102us/step - loss: 0.0064 - accuracy: 0.9987 - val_loss: 0.8114 - val_accuracy: 0.8625\n",
            "Epoch 24/100\n",
            "15000/15000 [==============================] - 2s 102us/step - loss: 0.0019 - accuracy: 0.9999 - val_loss: 0.8370 - val_accuracy: 0.8607\n",
            "Epoch 25/100\n",
            "15000/15000 [==============================] - 2s 102us/step - loss: 0.0035 - accuracy: 0.9993 - val_loss: 0.8730 - val_accuracy: 0.8621\n",
            "Epoch 26/100\n",
            "15000/15000 [==============================] - 2s 102us/step - loss: 0.0012 - accuracy: 1.0000 - val_loss: 0.9029 - val_accuracy: 0.8609\n",
            "Epoch 27/100\n",
            "15000/15000 [==============================] - 2s 102us/step - loss: 0.0037 - accuracy: 0.9991 - val_loss: 0.9436 - val_accuracy: 0.8613\n",
            "Epoch 28/100\n",
            "15000/15000 [==============================] - 2s 104us/step - loss: 7.0362e-04 - accuracy: 1.0000 - val_loss: 0.9613 - val_accuracy: 0.8598\n",
            "Epoch 29/100\n",
            "15000/15000 [==============================] - 2s 101us/step - loss: 0.0014 - accuracy: 0.9998 - val_loss: 1.1192 - val_accuracy: 0.8554\n",
            "Epoch 30/100\n",
            "15000/15000 [==============================] - 2s 101us/step - loss: 6.9615e-04 - accuracy: 1.0000 - val_loss: 1.0255 - val_accuracy: 0.8589\n",
            "Epoch 31/100\n",
            "15000/15000 [==============================] - 2s 102us/step - loss: 3.9683e-04 - accuracy: 1.0000 - val_loss: 1.0591 - val_accuracy: 0.8577\n",
            "Epoch 32/100\n",
            "15000/15000 [==============================] - 2s 103us/step - loss: 0.0019 - accuracy: 0.9994 - val_loss: 1.1017 - val_accuracy: 0.8592\n",
            "Epoch 33/100\n",
            "15000/15000 [==============================] - 2s 101us/step - loss: 2.3794e-04 - accuracy: 1.0000 - val_loss: 1.1180 - val_accuracy: 0.8589\n",
            "Epoch 34/100\n",
            "15000/15000 [==============================] - 2s 102us/step - loss: 2.0967e-04 - accuracy: 1.0000 - val_loss: 1.1574 - val_accuracy: 0.8580\n",
            "Epoch 35/100\n",
            "15000/15000 [==============================] - 2s 103us/step - loss: 0.0025 - accuracy: 0.9993 - val_loss: 1.2157 - val_accuracy: 0.8560\n",
            "Epoch 36/100\n",
            "15000/15000 [==============================] - 2s 102us/step - loss: 1.3482e-04 - accuracy: 1.0000 - val_loss: 1.2228 - val_accuracy: 0.8561\n",
            "Epoch 37/100\n",
            "15000/15000 [==============================] - 2s 100us/step - loss: 1.0267e-04 - accuracy: 1.0000 - val_loss: 1.2420 - val_accuracy: 0.8575\n",
            "Epoch 38/100\n",
            "15000/15000 [==============================] - 2s 103us/step - loss: 8.4761e-05 - accuracy: 1.0000 - val_loss: 1.2989 - val_accuracy: 0.8565\n",
            "Epoch 39/100\n",
            "15000/15000 [==============================] - 2s 101us/step - loss: 0.0015 - accuracy: 0.9995 - val_loss: 1.3280 - val_accuracy: 0.8557\n",
            "Epoch 40/100\n",
            "15000/15000 [==============================] - 1s 99us/step - loss: 5.7428e-05 - accuracy: 1.0000 - val_loss: 1.3399 - val_accuracy: 0.8553\n",
            "Epoch 41/100\n",
            "15000/15000 [==============================] - 1s 99us/step - loss: 4.6221e-05 - accuracy: 1.0000 - val_loss: 1.3641 - val_accuracy: 0.8561\n",
            "Epoch 42/100\n",
            "15000/15000 [==============================] - 1s 99us/step - loss: 0.0026 - accuracy: 0.9995 - val_loss: 1.4935 - val_accuracy: 0.8541\n",
            "Epoch 43/100\n",
            "15000/15000 [==============================] - 1s 99us/step - loss: 6.1661e-05 - accuracy: 1.0000 - val_loss: 1.4321 - val_accuracy: 0.8528\n",
            "Epoch 44/100\n",
            "15000/15000 [==============================] - 2s 100us/step - loss: 2.9675e-05 - accuracy: 1.0000 - val_loss: 1.4417 - val_accuracy: 0.8538\n",
            "Epoch 45/100\n",
            "15000/15000 [==============================] - 1s 99us/step - loss: 2.3411e-05 - accuracy: 1.0000 - val_loss: 1.4635 - val_accuracy: 0.8539\n",
            "Epoch 46/100\n",
            "15000/15000 [==============================] - 1s 99us/step - loss: 2.2074e-05 - accuracy: 1.0000 - val_loss: 1.6499 - val_accuracy: 0.8493\n",
            "Epoch 47/100\n",
            "15000/15000 [==============================] - 2s 100us/step - loss: 7.6166e-04 - accuracy: 0.9997 - val_loss: 1.5319 - val_accuracy: 0.8534\n",
            "Epoch 48/100\n",
            "15000/15000 [==============================] - 1s 97us/step - loss: 1.5713e-05 - accuracy: 1.0000 - val_loss: 1.5378 - val_accuracy: 0.8542\n",
            "Epoch 49/100\n",
            "15000/15000 [==============================] - 1s 98us/step - loss: 1.2572e-05 - accuracy: 1.0000 - val_loss: 1.5615 - val_accuracy: 0.8537\n",
            "Epoch 50/100\n",
            "15000/15000 [==============================] - 1s 97us/step - loss: 9.9796e-06 - accuracy: 1.0000 - val_loss: 1.6634 - val_accuracy: 0.8542\n",
            "Epoch 51/100\n",
            "15000/15000 [==============================] - 1s 98us/step - loss: 4.2369e-04 - accuracy: 0.9998 - val_loss: 1.6138 - val_accuracy: 0.8529\n",
            "Epoch 52/100\n",
            "15000/15000 [==============================] - 1s 97us/step - loss: 7.4091e-06 - accuracy: 1.0000 - val_loss: 1.6234 - val_accuracy: 0.8526\n",
            "Epoch 53/100\n",
            "15000/15000 [==============================] - 1s 97us/step - loss: 6.6222e-06 - accuracy: 1.0000 - val_loss: 1.6403 - val_accuracy: 0.8527\n",
            "Epoch 54/100\n",
            "15000/15000 [==============================] - 1s 97us/step - loss: 5.5562e-06 - accuracy: 1.0000 - val_loss: 1.6808 - val_accuracy: 0.8530\n",
            "Epoch 55/100\n",
            "15000/15000 [==============================] - 1s 97us/step - loss: 5.1307e-04 - accuracy: 0.9999 - val_loss: 1.7483 - val_accuracy: 0.8521\n",
            "Epoch 56/100\n",
            "15000/15000 [==============================] - 1s 97us/step - loss: 3.9770e-06 - accuracy: 1.0000 - val_loss: 1.7487 - val_accuracy: 0.8532\n",
            "Epoch 57/100\n",
            "15000/15000 [==============================] - 1s 98us/step - loss: 3.0790e-06 - accuracy: 1.0000 - val_loss: 1.7549 - val_accuracy: 0.8526\n",
            "Epoch 58/100\n",
            "15000/15000 [==============================] - 1s 99us/step - loss: 2.6798e-06 - accuracy: 1.0000 - val_loss: 1.7673 - val_accuracy: 0.8522\n",
            "Epoch 59/100\n",
            "15000/15000 [==============================] - 1s 98us/step - loss: 2.2852e-06 - accuracy: 1.0000 - val_loss: 1.7985 - val_accuracy: 0.8516\n",
            "Epoch 60/100\n",
            "15000/15000 [==============================] - 1s 98us/step - loss: 8.2939e-04 - accuracy: 0.9997 - val_loss: 1.9726 - val_accuracy: 0.8501\n",
            "Epoch 61/100\n",
            "15000/15000 [==============================] - 1s 98us/step - loss: 6.7831e-06 - accuracy: 1.0000 - val_loss: 1.8710 - val_accuracy: 0.8516\n",
            "Epoch 62/100\n",
            "15000/15000 [==============================] - 1s 98us/step - loss: 2.0057e-06 - accuracy: 1.0000 - val_loss: 1.8756 - val_accuracy: 0.8514\n",
            "Epoch 63/100\n",
            "15000/15000 [==============================] - 1s 97us/step - loss: 1.5123e-06 - accuracy: 1.0000 - val_loss: 1.8794 - val_accuracy: 0.8519\n",
            "Epoch 64/100\n",
            "15000/15000 [==============================] - 1s 97us/step - loss: 1.2793e-06 - accuracy: 1.0000 - val_loss: 1.8879 - val_accuracy: 0.8521\n",
            "Epoch 65/100\n",
            "15000/15000 [==============================] - 1s 97us/step - loss: 1.0722e-06 - accuracy: 1.0000 - val_loss: 1.9150 - val_accuracy: 0.8523\n",
            "Epoch 66/100\n",
            "15000/15000 [==============================] - 1s 98us/step - loss: 9.0284e-07 - accuracy: 1.0000 - val_loss: 2.0188 - val_accuracy: 0.8514\n",
            "Epoch 67/100\n",
            "15000/15000 [==============================] - 1s 98us/step - loss: 0.0013 - accuracy: 0.9997 - val_loss: 1.9975 - val_accuracy: 0.8518\n",
            "Epoch 68/100\n",
            "15000/15000 [==============================] - 1s 96us/step - loss: 6.8865e-07 - accuracy: 1.0000 - val_loss: 1.9973 - val_accuracy: 0.8519\n",
            "Epoch 69/100\n",
            "15000/15000 [==============================] - 1s 96us/step - loss: 6.1950e-07 - accuracy: 1.0000 - val_loss: 1.9988 - val_accuracy: 0.8520\n",
            "Epoch 70/100\n",
            "15000/15000 [==============================] - 1s 95us/step - loss: 5.7321e-07 - accuracy: 1.0000 - val_loss: 2.0024 - val_accuracy: 0.8520\n",
            "Epoch 71/100\n",
            "15000/15000 [==============================] - 1s 95us/step - loss: 5.2249e-07 - accuracy: 1.0000 - val_loss: 2.0130 - val_accuracy: 0.8520\n",
            "Epoch 72/100\n",
            "15000/15000 [==============================] - 1s 96us/step - loss: 4.4650e-07 - accuracy: 1.0000 - val_loss: 2.0472 - val_accuracy: 0.8517\n",
            "Epoch 73/100\n",
            "15000/15000 [==============================] - 1s 96us/step - loss: 0.0026 - accuracy: 0.9997 - val_loss: 2.2151 - val_accuracy: 0.8502\n",
            "Epoch 74/100\n",
            "15000/15000 [==============================] - 1s 95us/step - loss: 4.0993e-06 - accuracy: 1.0000 - val_loss: 2.1470 - val_accuracy: 0.8513\n",
            "Epoch 75/100\n",
            "15000/15000 [==============================] - 1s 95us/step - loss: 9.8456e-07 - accuracy: 1.0000 - val_loss: 2.1410 - val_accuracy: 0.8522\n",
            "Epoch 76/100\n",
            "15000/15000 [==============================] - 1s 95us/step - loss: 6.0665e-07 - accuracy: 1.0000 - val_loss: 2.1391 - val_accuracy: 0.8521\n",
            "Epoch 77/100\n",
            "15000/15000 [==============================] - 1s 94us/step - loss: 4.2717e-07 - accuracy: 1.0000 - val_loss: 2.1380 - val_accuracy: 0.8522\n",
            "Epoch 78/100\n",
            "15000/15000 [==============================] - 1s 93us/step - loss: 3.2275e-07 - accuracy: 1.0000 - val_loss: 2.1404 - val_accuracy: 0.8522\n",
            "Epoch 79/100\n",
            "15000/15000 [==============================] - 1s 94us/step - loss: 2.5995e-07 - accuracy: 1.0000 - val_loss: 2.1584 - val_accuracy: 0.8518\n",
            "Epoch 80/100\n",
            "15000/15000 [==============================] - 1s 93us/step - loss: 1.9445e-07 - accuracy: 1.0000 - val_loss: 2.2053 - val_accuracy: 0.8521\n",
            "Epoch 81/100\n",
            "15000/15000 [==============================] - 1s 92us/step - loss: 1.3188e-07 - accuracy: 1.0000 - val_loss: 2.2734 - val_accuracy: 0.8521\n",
            "Epoch 82/100\n",
            "15000/15000 [==============================] - 1s 92us/step - loss: 8.4607e-08 - accuracy: 1.0000 - val_loss: 2.3386 - val_accuracy: 0.8520\n",
            "Epoch 83/100\n",
            "15000/15000 [==============================] - 1s 90us/step - loss: 5.5807e-08 - accuracy: 1.0000 - val_loss: 2.3900 - val_accuracy: 0.8537\n",
            "Epoch 84/100\n",
            "15000/15000 [==============================] - 1s 91us/step - loss: 3.9724e-08 - accuracy: 1.0000 - val_loss: 2.4336 - val_accuracy: 0.8522\n",
            "Epoch 85/100\n",
            "15000/15000 [==============================] - 1s 91us/step - loss: 3.0363e-08 - accuracy: 1.0000 - val_loss: 2.4717 - val_accuracy: 0.8519\n",
            "Epoch 86/100\n",
            "15000/15000 [==============================] - 1s 91us/step - loss: 2.3915e-08 - accuracy: 1.0000 - val_loss: 2.5043 - val_accuracy: 0.8521\n",
            "Epoch 87/100\n",
            "15000/15000 [==============================] - 1s 92us/step - loss: 1.9667e-08 - accuracy: 1.0000 - val_loss: 2.5330 - val_accuracy: 0.8519\n",
            "Epoch 88/100\n",
            "15000/15000 [==============================] - 1s 91us/step - loss: 1.6541e-08 - accuracy: 1.0000 - val_loss: 2.5579 - val_accuracy: 0.8524\n",
            "Epoch 89/100\n",
            "15000/15000 [==============================] - 1s 92us/step - loss: 1.4243e-08 - accuracy: 1.0000 - val_loss: 2.5800 - val_accuracy: 0.8524\n",
            "Epoch 90/100\n",
            "15000/15000 [==============================] - 1s 93us/step - loss: 1.2454e-08 - accuracy: 1.0000 - val_loss: 2.5995 - val_accuracy: 0.8521\n",
            "Epoch 91/100\n",
            "15000/15000 [==============================] - 1s 92us/step - loss: 1.1029e-08 - accuracy: 1.0000 - val_loss: 2.6179 - val_accuracy: 0.8525\n",
            "Epoch 92/100\n",
            "15000/15000 [==============================] - 1s 94us/step - loss: 9.9324e-09 - accuracy: 1.0000 - val_loss: 2.6343 - val_accuracy: 0.8529\n",
            "Epoch 93/100\n",
            "15000/15000 [==============================] - 1s 91us/step - loss: 8.9748e-09 - accuracy: 1.0000 - val_loss: 2.6492 - val_accuracy: 0.8517\n",
            "Epoch 94/100\n",
            "15000/15000 [==============================] - 1s 90us/step - loss: 8.1839e-09 - accuracy: 1.0000 - val_loss: 2.6631 - val_accuracy: 0.8523\n",
            "Epoch 95/100\n",
            "15000/15000 [==============================] - 1s 90us/step - loss: 7.5095e-09 - accuracy: 1.0000 - val_loss: 2.6762 - val_accuracy: 0.8528\n",
            "Epoch 96/100\n",
            "15000/15000 [==============================] - 1s 90us/step - loss: 6.9989e-09 - accuracy: 1.0000 - val_loss: 2.6878 - val_accuracy: 0.8527\n",
            "Epoch 97/100\n",
            "15000/15000 [==============================] - 1s 91us/step - loss: 6.5148e-09 - accuracy: 1.0000 - val_loss: 2.6988 - val_accuracy: 0.8524\n",
            "Epoch 98/100\n",
            "15000/15000 [==============================] - 1s 90us/step - loss: 6.0739e-09 - accuracy: 1.0000 - val_loss: 2.7093 - val_accuracy: 0.8527\n",
            "Epoch 99/100\n",
            "15000/15000 [==============================] - 1s 90us/step - loss: 5.7015e-09 - accuracy: 1.0000 - val_loss: 2.7193 - val_accuracy: 0.8527\n",
            "Epoch 100/100\n",
            "15000/15000 [==============================] - 1s 92us/step - loss: 5.4023e-09 - accuracy: 1.0000 - val_loss: 2.7287 - val_accuracy: 0.8527\n"
          ],
          "name": "stdout"
        }
      ]
    },
    {
      "cell_type": "markdown",
      "metadata": {
        "id": "PZyNG9j3nudj",
        "colab_type": "text"
      },
      "source": [
        "訓練的過程會把相關資訊存放在 history，透過事後分析訓練過程的資訊可以幫助我們優化參數。"
      ]
    },
    {
      "cell_type": "code",
      "metadata": {
        "id": "VWe-59v-nudj",
        "colab_type": "code",
        "outputId": "27796e30-fabd-4dd6-a633-37752b6c8f9c",
        "colab": {
          "base_uri": "https://localhost:8080/",
          "height": 34
        }
      },
      "source": [
        "history_dict = history.history\n",
        "history_dict.keys()"
      ],
      "execution_count": 24,
      "outputs": [
        {
          "output_type": "execute_result",
          "data": {
            "text/plain": [
              "dict_keys(['val_loss', 'val_accuracy', 'loss', 'accuracy'])"
            ]
          },
          "metadata": {
            "tags": []
          },
          "execution_count": 24
        }
      ]
    },
    {
      "cell_type": "markdown",
      "metadata": {
        "id": "MFyPBKFYnudn",
        "colab_type": "text"
      },
      "source": [
        "# 訓練結果圖表分析\n",
        "\n",
        "透過上面的方法可以取得訓練 History 包含的資訊，然後我們將資訊繪製成為圖表，如下："
      ]
    },
    {
      "cell_type": "code",
      "metadata": {
        "id": "BTzIYXAinudo",
        "colab_type": "code",
        "outputId": "12e6865c-091a-4a84-fc37-145a61770ce3",
        "cellView": "both",
        "colab": {
          "base_uri": "https://localhost:8080/",
          "height": 295
        }
      },
      "source": [
        "#@title\n",
        "import matplotlib.pyplot as plt\n",
        "\n",
        "acc = history.history['accuracy']\n",
        "val_acc = history.history['val_accuracy']\n",
        "loss = history.history['loss']\n",
        "val_loss = history.history['val_loss']\n",
        "\n",
        "epochs = range(1, len(acc) + 1)\n",
        "\n",
        "# \"bo\" is for \"blue dot\"\n",
        "plt.plot(epochs, loss, 'bo', label='Training loss')\n",
        "# b is for \"solid blue line\"\n",
        "plt.plot(epochs, val_loss, 'b', label='Validation loss')\n",
        "plt.title('Training and validation loss')\n",
        "plt.xlabel('Epochs')\n",
        "plt.ylabel('Loss')\n",
        "plt.legend()\n",
        "\n",
        "plt.show()"
      ],
      "execution_count": 25,
      "outputs": [
        {
          "output_type": "display_data",
          "data": {
            "image/png": "[encoded data removed]",
            "text/plain": [
              "<Figure size 432x288 with 1 Axes>"
            ]
          },
          "metadata": {
            "tags": [],
            "needs_background": "light"
          }
        }
      ]
    },
    {
      "cell_type": "code",
      "metadata": {
        "id": "wTsXBiMinudr",
        "colab_type": "code",
        "outputId": "26f032ca-d69d-4945-accd-162463ea27af",
        "colab": {
          "base_uri": "https://localhost:8080/",
          "height": 295
        }
      },
      "source": [
        "plt.clf()   # clear figure\n",
        "acc_values = history_dict['accuracy']\n",
        "val_acc_values = history_dict['val_accuracy']\n",
        "\n",
        "plt.plot(epochs, acc, 'bo', label='Training acc')\n",
        "plt.plot(epochs, val_acc, 'b', label='Validation acc')\n",
        "plt.title('Training and validation accuracy')\n",
        "plt.xlabel('Epochs')\n",
        "plt.ylabel('Loss')\n",
        "plt.legend()\n",
        "\n",
        "plt.show()"
      ],
      "execution_count": 26,
      "outputs": [
        {
          "output_type": "display_data",
          "data": {
            "image/png": "[encoded data removed]",
            "text/plain": [
              "<Figure size 432x288 with 1 Axes>"
            ]
          },
          "metadata": {
            "tags": [],
            "needs_background": "light"
          }
        }
      ]
    },
    {
      "cell_type": "markdown",
      "metadata": {
        "id": "vKX5gw4qnudu",
        "colab_type": "text"
      },
      "source": [
        "由上面的數據可以看出來，以現在的網路架構，其實在第 3 次 Epoch 就已經獲得最佳的結果，之後的訓練已經造成過度擬合 (Over Fitting)，因此在這個案例中將 Epoch 設定為 3 或 4 是取得最佳訓練模型的方法。"
      ]
    }
  ]
}
